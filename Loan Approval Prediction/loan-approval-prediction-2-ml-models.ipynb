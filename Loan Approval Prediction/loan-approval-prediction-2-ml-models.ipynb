{
 "cells": [
  {
   "cell_type": "markdown",
   "id": "45d3d36e",
   "metadata": {
    "id": "hTheXXhmE9XK",
    "papermill": {
     "duration": 0.006401,
     "end_time": "2025-09-05T13:10:14.816399",
     "exception": false,
     "start_time": "2025-09-05T13:10:14.809998",
     "status": "completed"
    },
    "tags": []
   },
   "source": [
    "# Loan Approval Prediction\n",
    "`Task Description`\n",
    "\n",
    "---\n",
    "\n",
    "- Build a model to predict whether a loan application will be approved.\n",
    "- Handle missing values and encode categorical features.\n",
    "- Train a classification model and evaluate performance on imbalanced data\n",
    "- Focus on precision, recall, and F1-score\n",
    "- Dataset : [Loan-Approval-Prediction-Dataset](https://www.kaggle.com/datasets/architsharma01/loan-approval-prediction-dataset).\n",
    "\n",
    "---\n",
    "`Approach`\n",
    "- We'll build 2 models, one of Logistic Regression and second Decision Tree for more precision"
   ]
  },
  {
   "cell_type": "markdown",
   "id": "d39887d8",
   "metadata": {
    "id": "dO2kse7PIdyB",
    "papermill": {
     "duration": 0.005131,
     "end_time": "2025-09-05T13:10:14.827268",
     "exception": false,
     "start_time": "2025-09-05T13:10:14.822137",
     "status": "completed"
    },
    "tags": []
   },
   "source": [
    "## Import Libraries and Dataset"
   ]
  },
  {
   "cell_type": "code",
   "execution_count": 1,
   "id": "ee52fc4c",
   "metadata": {
    "execution": {
     "iopub.execute_input": "2025-09-05T13:10:14.841693Z",
     "iopub.status.busy": "2025-09-05T13:10:14.841348Z",
     "iopub.status.idle": "2025-09-05T13:10:20.457621Z",
     "shell.execute_reply": "2025-09-05T13:10:20.456284Z"
    },
    "id": "77bufIoqUMkH",
    "papermill": {
     "duration": 5.626579,
     "end_time": "2025-09-05T13:10:20.459944",
     "exception": false,
     "start_time": "2025-09-05T13:10:14.833365",
     "status": "completed"
    },
    "tags": []
   },
   "outputs": [],
   "source": [
    "import pandas as pd\n",
    "import seaborn as sns\n",
    "import matplotlib.pyplot as plt\n",
    "from sklearn.linear_model import LogisticRegression\n",
    "from sklearn.tree import DecisionTreeClassifier\n",
    "from sklearn.metrics import accuracy_score, classification_report, confusion_matrix"
   ]
  },
  {
   "cell_type": "code",
   "execution_count": 2,
   "id": "31ddff36",
   "metadata": {
    "execution": {
     "iopub.execute_input": "2025-09-05T13:10:20.472633Z",
     "iopub.status.busy": "2025-09-05T13:10:20.472073Z",
     "iopub.status.idle": "2025-09-05T13:10:20.516386Z",
     "shell.execute_reply": "2025-09-05T13:10:20.515179Z"
    },
    "id": "iOHofIjnivFk",
    "papermill": {
     "duration": 0.053184,
     "end_time": "2025-09-05T13:10:20.518736",
     "exception": false,
     "start_time": "2025-09-05T13:10:20.465552",
     "status": "completed"
    },
    "tags": []
   },
   "outputs": [],
   "source": [
    "df=pd.read_csv('/kaggle/input/loan-approval-prediction-dataset/loan_approval_dataset.csv')"
   ]
  },
  {
   "cell_type": "markdown",
   "id": "40f0f764",
   "metadata": {
    "id": "RxiSOHFXIqVo",
    "papermill": {
     "duration": 0.00552,
     "end_time": "2025-09-05T13:10:20.530326",
     "exception": false,
     "start_time": "2025-09-05T13:10:20.524806",
     "status": "completed"
    },
    "tags": []
   },
   "source": [
    "## EDA and Pre processing"
   ]
  },
  {
   "cell_type": "code",
   "execution_count": 3,
   "id": "4e78ef32",
   "metadata": {
    "execution": {
     "iopub.execute_input": "2025-09-05T13:10:20.543419Z",
     "iopub.status.busy": "2025-09-05T13:10:20.543011Z",
     "iopub.status.idle": "2025-09-05T13:10:20.553033Z",
     "shell.execute_reply": "2025-09-05T13:10:20.551856Z"
    },
    "id": "zGmdBgXxE56B",
    "outputId": "3a1f31cf-c0fa-4de7-dc10-f344e3e0947d",
    "papermill": {
     "duration": 0.018873,
     "end_time": "2025-09-05T13:10:20.554951",
     "exception": false,
     "start_time": "2025-09-05T13:10:20.536078",
     "status": "completed"
    },
    "tags": []
   },
   "outputs": [
    {
     "data": {
      "text/plain": [
       "Index(['loan_id', ' no_of_dependents', ' education', ' self_employed',\n",
       "       ' income_annum', ' loan_amount', ' loan_term', ' cibil_score',\n",
       "       ' residential_assets_value', ' commercial_assets_value',\n",
       "       ' luxury_assets_value', ' bank_asset_value', ' loan_status'],\n",
       "      dtype='object')"
      ]
     },
     "execution_count": 3,
     "metadata": {},
     "output_type": "execute_result"
    }
   ],
   "source": [
    "df.columns"
   ]
  },
  {
   "cell_type": "markdown",
   "id": "8a67214d",
   "metadata": {
    "id": "YZpc6cxBIusN",
    "papermill": {
     "duration": 0.006673,
     "end_time": "2025-09-05T13:10:20.569366",
     "exception": false,
     "start_time": "2025-09-05T13:10:20.562693",
     "status": "completed"
    },
    "tags": []
   },
   "source": [
    "We'll remove whitespaces from each column name for any confusion in future"
   ]
  },
  {
   "cell_type": "code",
   "execution_count": 4,
   "id": "1ca683b4",
   "metadata": {
    "execution": {
     "iopub.execute_input": "2025-09-05T13:10:20.581355Z",
     "iopub.status.busy": "2025-09-05T13:10:20.580902Z",
     "iopub.status.idle": "2025-09-05T13:10:20.586929Z",
     "shell.execute_reply": "2025-09-05T13:10:20.585784Z"
    },
    "id": "k1A78tA5mXK6",
    "papermill": {
     "duration": 0.013786,
     "end_time": "2025-09-05T13:10:20.588469",
     "exception": false,
     "start_time": "2025-09-05T13:10:20.574683",
     "status": "completed"
    },
    "tags": []
   },
   "outputs": [],
   "source": [
    "df.columns = [col.strip() for col in df.columns]"
   ]
  },
  {
   "cell_type": "code",
   "execution_count": 5,
   "id": "5325ab75",
   "metadata": {
    "execution": {
     "iopub.execute_input": "2025-09-05T13:10:20.600191Z",
     "iopub.status.busy": "2025-09-05T13:10:20.599866Z",
     "iopub.status.idle": "2025-09-05T13:10:20.627960Z",
     "shell.execute_reply": "2025-09-05T13:10:20.626739Z"
    },
    "id": "dk6e9W1JE5dk",
    "outputId": "62357469-c5fc-4ab8-ff64-c94e4d524817",
    "papermill": {
     "duration": 0.036097,
     "end_time": "2025-09-05T13:10:20.629844",
     "exception": false,
     "start_time": "2025-09-05T13:10:20.593747",
     "status": "completed"
    },
    "tags": []
   },
   "outputs": [
    {
     "data": {
      "text/html": [
       "<div>\n",
       "<style scoped>\n",
       "    .dataframe tbody tr th:only-of-type {\n",
       "        vertical-align: middle;\n",
       "    }\n",
       "\n",
       "    .dataframe tbody tr th {\n",
       "        vertical-align: top;\n",
       "    }\n",
       "\n",
       "    .dataframe thead th {\n",
       "        text-align: right;\n",
       "    }\n",
       "</style>\n",
       "<table border=\"1\" class=\"dataframe\">\n",
       "  <thead>\n",
       "    <tr style=\"text-align: right;\">\n",
       "      <th></th>\n",
       "      <th>0</th>\n",
       "      <th>1</th>\n",
       "      <th>2</th>\n",
       "      <th>3</th>\n",
       "      <th>4</th>\n",
       "      <th>5</th>\n",
       "      <th>6</th>\n",
       "      <th>7</th>\n",
       "      <th>8</th>\n",
       "      <th>9</th>\n",
       "      <th>10</th>\n",
       "    </tr>\n",
       "  </thead>\n",
       "  <tbody>\n",
       "    <tr>\n",
       "      <th>loan_id</th>\n",
       "      <td>1</td>\n",
       "      <td>2</td>\n",
       "      <td>3</td>\n",
       "      <td>4</td>\n",
       "      <td>5</td>\n",
       "      <td>6</td>\n",
       "      <td>7</td>\n",
       "      <td>8</td>\n",
       "      <td>9</td>\n",
       "      <td>10</td>\n",
       "      <td>11</td>\n",
       "    </tr>\n",
       "    <tr>\n",
       "      <th>no_of_dependents</th>\n",
       "      <td>2</td>\n",
       "      <td>0</td>\n",
       "      <td>3</td>\n",
       "      <td>3</td>\n",
       "      <td>5</td>\n",
       "      <td>0</td>\n",
       "      <td>5</td>\n",
       "      <td>2</td>\n",
       "      <td>0</td>\n",
       "      <td>5</td>\n",
       "      <td>4</td>\n",
       "    </tr>\n",
       "    <tr>\n",
       "      <th>education</th>\n",
       "      <td>Graduate</td>\n",
       "      <td>Not Graduate</td>\n",
       "      <td>Graduate</td>\n",
       "      <td>Graduate</td>\n",
       "      <td>Not Graduate</td>\n",
       "      <td>Graduate</td>\n",
       "      <td>Graduate</td>\n",
       "      <td>Graduate</td>\n",
       "      <td>Graduate</td>\n",
       "      <td>Not Graduate</td>\n",
       "      <td>Graduate</td>\n",
       "    </tr>\n",
       "    <tr>\n",
       "      <th>self_employed</th>\n",
       "      <td>No</td>\n",
       "      <td>Yes</td>\n",
       "      <td>No</td>\n",
       "      <td>No</td>\n",
       "      <td>Yes</td>\n",
       "      <td>Yes</td>\n",
       "      <td>No</td>\n",
       "      <td>Yes</td>\n",
       "      <td>Yes</td>\n",
       "      <td>No</td>\n",
       "      <td>Yes</td>\n",
       "    </tr>\n",
       "    <tr>\n",
       "      <th>income_annum</th>\n",
       "      <td>9600000</td>\n",
       "      <td>4100000</td>\n",
       "      <td>9100000</td>\n",
       "      <td>8200000</td>\n",
       "      <td>9800000</td>\n",
       "      <td>4800000</td>\n",
       "      <td>8700000</td>\n",
       "      <td>5700000</td>\n",
       "      <td>800000</td>\n",
       "      <td>1100000</td>\n",
       "      <td>2900000</td>\n",
       "    </tr>\n",
       "    <tr>\n",
       "      <th>loan_amount</th>\n",
       "      <td>29900000</td>\n",
       "      <td>12200000</td>\n",
       "      <td>29700000</td>\n",
       "      <td>30700000</td>\n",
       "      <td>24200000</td>\n",
       "      <td>13500000</td>\n",
       "      <td>33000000</td>\n",
       "      <td>15000000</td>\n",
       "      <td>2200000</td>\n",
       "      <td>4300000</td>\n",
       "      <td>11200000</td>\n",
       "    </tr>\n",
       "    <tr>\n",
       "      <th>loan_term</th>\n",
       "      <td>12</td>\n",
       "      <td>8</td>\n",
       "      <td>20</td>\n",
       "      <td>8</td>\n",
       "      <td>20</td>\n",
       "      <td>10</td>\n",
       "      <td>4</td>\n",
       "      <td>20</td>\n",
       "      <td>20</td>\n",
       "      <td>10</td>\n",
       "      <td>2</td>\n",
       "    </tr>\n",
       "    <tr>\n",
       "      <th>cibil_score</th>\n",
       "      <td>778</td>\n",
       "      <td>417</td>\n",
       "      <td>506</td>\n",
       "      <td>467</td>\n",
       "      <td>382</td>\n",
       "      <td>319</td>\n",
       "      <td>678</td>\n",
       "      <td>382</td>\n",
       "      <td>782</td>\n",
       "      <td>388</td>\n",
       "      <td>547</td>\n",
       "    </tr>\n",
       "    <tr>\n",
       "      <th>residential_assets_value</th>\n",
       "      <td>2400000</td>\n",
       "      <td>2700000</td>\n",
       "      <td>7100000</td>\n",
       "      <td>18200000</td>\n",
       "      <td>12400000</td>\n",
       "      <td>6800000</td>\n",
       "      <td>22500000</td>\n",
       "      <td>13200000</td>\n",
       "      <td>1300000</td>\n",
       "      <td>3200000</td>\n",
       "      <td>8100000</td>\n",
       "    </tr>\n",
       "    <tr>\n",
       "      <th>commercial_assets_value</th>\n",
       "      <td>17600000</td>\n",
       "      <td>2200000</td>\n",
       "      <td>4500000</td>\n",
       "      <td>3300000</td>\n",
       "      <td>8200000</td>\n",
       "      <td>8300000</td>\n",
       "      <td>14800000</td>\n",
       "      <td>5700000</td>\n",
       "      <td>800000</td>\n",
       "      <td>1400000</td>\n",
       "      <td>4700000</td>\n",
       "    </tr>\n",
       "    <tr>\n",
       "      <th>luxury_assets_value</th>\n",
       "      <td>22700000</td>\n",
       "      <td>8800000</td>\n",
       "      <td>33300000</td>\n",
       "      <td>23300000</td>\n",
       "      <td>29400000</td>\n",
       "      <td>13700000</td>\n",
       "      <td>29200000</td>\n",
       "      <td>11800000</td>\n",
       "      <td>2800000</td>\n",
       "      <td>3300000</td>\n",
       "      <td>9500000</td>\n",
       "    </tr>\n",
       "    <tr>\n",
       "      <th>bank_asset_value</th>\n",
       "      <td>8000000</td>\n",
       "      <td>3300000</td>\n",
       "      <td>12800000</td>\n",
       "      <td>7900000</td>\n",
       "      <td>5000000</td>\n",
       "      <td>5100000</td>\n",
       "      <td>4300000</td>\n",
       "      <td>6000000</td>\n",
       "      <td>600000</td>\n",
       "      <td>1600000</td>\n",
       "      <td>3100000</td>\n",
       "    </tr>\n",
       "    <tr>\n",
       "      <th>loan_status</th>\n",
       "      <td>Approved</td>\n",
       "      <td>Rejected</td>\n",
       "      <td>Rejected</td>\n",
       "      <td>Rejected</td>\n",
       "      <td>Rejected</td>\n",
       "      <td>Rejected</td>\n",
       "      <td>Approved</td>\n",
       "      <td>Rejected</td>\n",
       "      <td>Approved</td>\n",
       "      <td>Rejected</td>\n",
       "      <td>Approved</td>\n",
       "    </tr>\n",
       "  </tbody>\n",
       "</table>\n",
       "</div>"
      ],
      "text/plain": [
       "                                 0              1          2          3   \\\n",
       "loan_id                           1              2          3          4   \n",
       "no_of_dependents                  2              0          3          3   \n",
       "education                  Graduate   Not Graduate   Graduate   Graduate   \n",
       "self_employed                    No            Yes         No         No   \n",
       "income_annum                9600000        4100000    9100000    8200000   \n",
       "loan_amount                29900000       12200000   29700000   30700000   \n",
       "loan_term                        12              8         20          8   \n",
       "cibil_score                     778            417        506        467   \n",
       "residential_assets_value    2400000        2700000    7100000   18200000   \n",
       "commercial_assets_value    17600000        2200000    4500000    3300000   \n",
       "luxury_assets_value        22700000        8800000   33300000   23300000   \n",
       "bank_asset_value            8000000        3300000   12800000    7900000   \n",
       "loan_status                Approved       Rejected   Rejected   Rejected   \n",
       "\n",
       "                                     4          5          6          7   \\\n",
       "loan_id                               5          6          7          8   \n",
       "no_of_dependents                      5          0          5          2   \n",
       "education                  Not Graduate   Graduate   Graduate   Graduate   \n",
       "self_employed                       Yes        Yes         No        Yes   \n",
       "income_annum                    9800000    4800000    8700000    5700000   \n",
       "loan_amount                    24200000   13500000   33000000   15000000   \n",
       "loan_term                            20         10          4         20   \n",
       "cibil_score                         382        319        678        382   \n",
       "residential_assets_value       12400000    6800000   22500000   13200000   \n",
       "commercial_assets_value         8200000    8300000   14800000    5700000   \n",
       "luxury_assets_value            29400000   13700000   29200000   11800000   \n",
       "bank_asset_value                5000000    5100000    4300000    6000000   \n",
       "loan_status                    Rejected   Rejected   Approved   Rejected   \n",
       "\n",
       "                                 8              9          10  \n",
       "loan_id                           9             10         11  \n",
       "no_of_dependents                  0              5          4  \n",
       "education                  Graduate   Not Graduate   Graduate  \n",
       "self_employed                   Yes             No        Yes  \n",
       "income_annum                 800000        1100000    2900000  \n",
       "loan_amount                 2200000        4300000   11200000  \n",
       "loan_term                        20             10          2  \n",
       "cibil_score                     782            388        547  \n",
       "residential_assets_value    1300000        3200000    8100000  \n",
       "commercial_assets_value      800000        1400000    4700000  \n",
       "luxury_assets_value         2800000        3300000    9500000  \n",
       "bank_asset_value             600000        1600000    3100000  \n",
       "loan_status                Approved       Rejected   Approved  "
      ]
     },
     "execution_count": 5,
     "metadata": {},
     "output_type": "execute_result"
    }
   ],
   "source": [
    "df.head(11).T"
   ]
  },
  {
   "cell_type": "code",
   "execution_count": 6,
   "id": "082a3aa4",
   "metadata": {
    "execution": {
     "iopub.execute_input": "2025-09-05T13:10:20.642970Z",
     "iopub.status.busy": "2025-09-05T13:10:20.642266Z",
     "iopub.status.idle": "2025-09-05T13:10:20.676479Z",
     "shell.execute_reply": "2025-09-05T13:10:20.675312Z"
    },
    "id": "ktZ0D_xuJfEs",
    "outputId": "182d07ba-faa8-4ddb-9bb7-74491b9d1178",
    "papermill": {
     "duration": 0.042647,
     "end_time": "2025-09-05T13:10:20.678389",
     "exception": false,
     "start_time": "2025-09-05T13:10:20.635742",
     "status": "completed"
    },
    "tags": []
   },
   "outputs": [
    {
     "name": "stdout",
     "output_type": "stream",
     "text": [
      "<class 'pandas.core.frame.DataFrame'>\n",
      "RangeIndex: 4269 entries, 0 to 4268\n",
      "Data columns (total 13 columns):\n",
      " #   Column                    Non-Null Count  Dtype \n",
      "---  ------                    --------------  ----- \n",
      " 0   loan_id                   4269 non-null   int64 \n",
      " 1   no_of_dependents          4269 non-null   int64 \n",
      " 2   education                 4269 non-null   object\n",
      " 3   self_employed             4269 non-null   object\n",
      " 4   income_annum              4269 non-null   int64 \n",
      " 5   loan_amount               4269 non-null   int64 \n",
      " 6   loan_term                 4269 non-null   int64 \n",
      " 7   cibil_score               4269 non-null   int64 \n",
      " 8   residential_assets_value  4269 non-null   int64 \n",
      " 9   commercial_assets_value   4269 non-null   int64 \n",
      " 10  luxury_assets_value       4269 non-null   int64 \n",
      " 11  bank_asset_value          4269 non-null   int64 \n",
      " 12  loan_status               4269 non-null   object\n",
      "dtypes: int64(10), object(3)\n",
      "memory usage: 433.7+ KB\n"
     ]
    }
   ],
   "source": [
    "df.info()"
   ]
  },
  {
   "cell_type": "code",
   "execution_count": 7,
   "id": "8baa88d0",
   "metadata": {
    "execution": {
     "iopub.execute_input": "2025-09-05T13:10:20.692146Z",
     "iopub.status.busy": "2025-09-05T13:10:20.691802Z",
     "iopub.status.idle": "2025-09-05T13:10:20.700447Z",
     "shell.execute_reply": "2025-09-05T13:10:20.699438Z"
    },
    "id": "r3NWneruJiEE",
    "outputId": "6656691b-eced-4d66-f8bb-b12f6b2d6fb5",
    "papermill": {
     "duration": 0.017931,
     "end_time": "2025-09-05T13:10:20.702146",
     "exception": false,
     "start_time": "2025-09-05T13:10:20.684215",
     "status": "completed"
    },
    "tags": []
   },
   "outputs": [
    {
     "data": {
      "text/plain": [
       "loan_id                     0\n",
       "no_of_dependents            0\n",
       "education                   0\n",
       "self_employed               0\n",
       "income_annum                0\n",
       "loan_amount                 0\n",
       "loan_term                   0\n",
       "cibil_score                 0\n",
       "residential_assets_value    0\n",
       "commercial_assets_value     0\n",
       "luxury_assets_value         0\n",
       "bank_asset_value            0\n",
       "loan_status                 0\n",
       "dtype: int64"
      ]
     },
     "execution_count": 7,
     "metadata": {},
     "output_type": "execute_result"
    }
   ],
   "source": [
    "df.isna().sum()"
   ]
  },
  {
   "cell_type": "markdown",
   "id": "fc7f615c",
   "metadata": {
    "id": "0Q2sOZsSJ3RC",
    "papermill": {
     "duration": 0.005387,
     "end_time": "2025-09-05T13:10:20.713349",
     "exception": false,
     "start_time": "2025-09-05T13:10:20.707962",
     "status": "completed"
    },
    "tags": []
   },
   "source": [
    "### Encoding"
   ]
  },
  {
   "cell_type": "code",
   "execution_count": 8,
   "id": "7f773f81",
   "metadata": {
    "execution": {
     "iopub.execute_input": "2025-09-05T13:10:20.726146Z",
     "iopub.status.busy": "2025-09-05T13:10:20.725845Z",
     "iopub.status.idle": "2025-09-05T13:10:20.737802Z",
     "shell.execute_reply": "2025-09-05T13:10:20.736427Z"
    },
    "id": "Jj_b9SYCmQ42",
    "papermill": {
     "duration": 0.021265,
     "end_time": "2025-09-05T13:10:20.740401",
     "exception": false,
     "start_time": "2025-09-05T13:10:20.719136",
     "status": "completed"
    },
    "tags": []
   },
   "outputs": [],
   "source": [
    "from sklearn.preprocessing import LabelEncoder\n",
    "le = LabelEncoder()\n",
    "df['education'] = le.fit_transform(df['education'])\n",
    "df['self_employed'] = le.fit_transform(df['self_employed'])\n",
    "df['loan_status'] = le.fit_transform(df['loan_status'])"
   ]
  },
  {
   "cell_type": "code",
   "execution_count": 9,
   "id": "adf7fbc5",
   "metadata": {
    "execution": {
     "iopub.execute_input": "2025-09-05T13:10:20.756431Z",
     "iopub.status.busy": "2025-09-05T13:10:20.755873Z",
     "iopub.status.idle": "2025-09-05T13:10:20.771003Z",
     "shell.execute_reply": "2025-09-05T13:10:20.769916Z"
    },
    "id": "rEP3bJR8J5-E",
    "outputId": "8468de29-6dd9-45a7-b64f-56234b89a7db",
    "papermill": {
     "duration": 0.02699,
     "end_time": "2025-09-05T13:10:20.773915",
     "exception": false,
     "start_time": "2025-09-05T13:10:20.746925",
     "status": "completed"
    },
    "tags": []
   },
   "outputs": [
    {
     "data": {
      "text/html": [
       "<div>\n",
       "<style scoped>\n",
       "    .dataframe tbody tr th:only-of-type {\n",
       "        vertical-align: middle;\n",
       "    }\n",
       "\n",
       "    .dataframe tbody tr th {\n",
       "        vertical-align: top;\n",
       "    }\n",
       "\n",
       "    .dataframe thead th {\n",
       "        text-align: right;\n",
       "    }\n",
       "</style>\n",
       "<table border=\"1\" class=\"dataframe\">\n",
       "  <thead>\n",
       "    <tr style=\"text-align: right;\">\n",
       "      <th></th>\n",
       "      <th>0</th>\n",
       "      <th>1</th>\n",
       "      <th>2</th>\n",
       "      <th>3</th>\n",
       "      <th>4</th>\n",
       "    </tr>\n",
       "  </thead>\n",
       "  <tbody>\n",
       "    <tr>\n",
       "      <th>loan_id</th>\n",
       "      <td>1</td>\n",
       "      <td>2</td>\n",
       "      <td>3</td>\n",
       "      <td>4</td>\n",
       "      <td>5</td>\n",
       "    </tr>\n",
       "    <tr>\n",
       "      <th>no_of_dependents</th>\n",
       "      <td>2</td>\n",
       "      <td>0</td>\n",
       "      <td>3</td>\n",
       "      <td>3</td>\n",
       "      <td>5</td>\n",
       "    </tr>\n",
       "    <tr>\n",
       "      <th>education</th>\n",
       "      <td>0</td>\n",
       "      <td>1</td>\n",
       "      <td>0</td>\n",
       "      <td>0</td>\n",
       "      <td>1</td>\n",
       "    </tr>\n",
       "    <tr>\n",
       "      <th>self_employed</th>\n",
       "      <td>0</td>\n",
       "      <td>1</td>\n",
       "      <td>0</td>\n",
       "      <td>0</td>\n",
       "      <td>1</td>\n",
       "    </tr>\n",
       "    <tr>\n",
       "      <th>income_annum</th>\n",
       "      <td>9600000</td>\n",
       "      <td>4100000</td>\n",
       "      <td>9100000</td>\n",
       "      <td>8200000</td>\n",
       "      <td>9800000</td>\n",
       "    </tr>\n",
       "    <tr>\n",
       "      <th>loan_amount</th>\n",
       "      <td>29900000</td>\n",
       "      <td>12200000</td>\n",
       "      <td>29700000</td>\n",
       "      <td>30700000</td>\n",
       "      <td>24200000</td>\n",
       "    </tr>\n",
       "    <tr>\n",
       "      <th>loan_term</th>\n",
       "      <td>12</td>\n",
       "      <td>8</td>\n",
       "      <td>20</td>\n",
       "      <td>8</td>\n",
       "      <td>20</td>\n",
       "    </tr>\n",
       "    <tr>\n",
       "      <th>cibil_score</th>\n",
       "      <td>778</td>\n",
       "      <td>417</td>\n",
       "      <td>506</td>\n",
       "      <td>467</td>\n",
       "      <td>382</td>\n",
       "    </tr>\n",
       "    <tr>\n",
       "      <th>residential_assets_value</th>\n",
       "      <td>2400000</td>\n",
       "      <td>2700000</td>\n",
       "      <td>7100000</td>\n",
       "      <td>18200000</td>\n",
       "      <td>12400000</td>\n",
       "    </tr>\n",
       "    <tr>\n",
       "      <th>commercial_assets_value</th>\n",
       "      <td>17600000</td>\n",
       "      <td>2200000</td>\n",
       "      <td>4500000</td>\n",
       "      <td>3300000</td>\n",
       "      <td>8200000</td>\n",
       "    </tr>\n",
       "    <tr>\n",
       "      <th>luxury_assets_value</th>\n",
       "      <td>22700000</td>\n",
       "      <td>8800000</td>\n",
       "      <td>33300000</td>\n",
       "      <td>23300000</td>\n",
       "      <td>29400000</td>\n",
       "    </tr>\n",
       "    <tr>\n",
       "      <th>bank_asset_value</th>\n",
       "      <td>8000000</td>\n",
       "      <td>3300000</td>\n",
       "      <td>12800000</td>\n",
       "      <td>7900000</td>\n",
       "      <td>5000000</td>\n",
       "    </tr>\n",
       "    <tr>\n",
       "      <th>loan_status</th>\n",
       "      <td>0</td>\n",
       "      <td>1</td>\n",
       "      <td>1</td>\n",
       "      <td>1</td>\n",
       "      <td>1</td>\n",
       "    </tr>\n",
       "  </tbody>\n",
       "</table>\n",
       "</div>"
      ],
      "text/plain": [
       "                                 0         1         2         3         4\n",
       "loan_id                          1         2         3         4         5\n",
       "no_of_dependents                 2         0         3         3         5\n",
       "education                        0         1         0         0         1\n",
       "self_employed                    0         1         0         0         1\n",
       "income_annum               9600000   4100000   9100000   8200000   9800000\n",
       "loan_amount               29900000  12200000  29700000  30700000  24200000\n",
       "loan_term                       12         8        20         8        20\n",
       "cibil_score                    778       417       506       467       382\n",
       "residential_assets_value   2400000   2700000   7100000  18200000  12400000\n",
       "commercial_assets_value   17600000   2200000   4500000   3300000   8200000\n",
       "luxury_assets_value       22700000   8800000  33300000  23300000  29400000\n",
       "bank_asset_value           8000000   3300000  12800000   7900000   5000000\n",
       "loan_status                      0         1         1         1         1"
      ]
     },
     "execution_count": 9,
     "metadata": {},
     "output_type": "execute_result"
    }
   ],
   "source": [
    "df.head().T"
   ]
  },
  {
   "cell_type": "markdown",
   "id": "6b40c1c3",
   "metadata": {
    "id": "_-34sWfbLLOT",
    "papermill": {
     "duration": 0.009099,
     "end_time": "2025-09-05T13:10:20.792147",
     "exception": false,
     "start_time": "2025-09-05T13:10:20.783048",
     "status": "completed"
    },
    "tags": []
   },
   "source": [
    "### Correlation"
   ]
  },
  {
   "cell_type": "code",
   "execution_count": 10,
   "id": "643edf70",
   "metadata": {
    "execution": {
     "iopub.execute_input": "2025-09-05T13:10:20.813504Z",
     "iopub.status.busy": "2025-09-05T13:10:20.813071Z",
     "iopub.status.idle": "2025-09-05T13:10:21.659488Z",
     "shell.execute_reply": "2025-09-05T13:10:21.658532Z"
    },
    "id": "6QnlyGR_LPF-",
    "outputId": "3778fe25-58cf-40a5-dbe8-227f0f39e8cd",
    "papermill": {
     "duration": 0.858596,
     "end_time": "2025-09-05T13:10:21.663265",
     "exception": false,
     "start_time": "2025-09-05T13:10:20.804669",
     "status": "completed"
    },
    "tags": []
   },
   "outputs": [
    {
     "data": {
      "image/png": "[encoded data removed]",
      "text/plain": [
       "<Figure size 1000x800 with 2 Axes>"
      ]
     },
     "metadata": {},
     "output_type": "display_data"
    }
   ],
   "source": [
    "plt.figure(figsize=(10,8))\n",
    "sns.heatmap(df.corr(), annot=True, cmap='Reds',fmt='.2f')\n",
    "plt.title('Correlation Heatmap')\n",
    "plt.show()"
   ]
  },
  {
   "cell_type": "markdown",
   "id": "fa8a93ac",
   "metadata": {
    "id": "uR6C3Hk6LslQ",
    "papermill": {
     "duration": 0.010103,
     "end_time": "2025-09-05T13:10:21.684473",
     "exception": false,
     "start_time": "2025-09-05T13:10:21.674370",
     "status": "completed"
    },
    "tags": []
   },
   "source": [
    "Cibil Score and loan term are correlated with loan_status than other features"
   ]
  },
  {
   "cell_type": "code",
   "execution_count": 11,
   "id": "346ad7f3",
   "metadata": {
    "execution": {
     "iopub.execute_input": "2025-09-05T13:10:21.705570Z",
     "iopub.status.busy": "2025-09-05T13:10:21.705204Z",
     "iopub.status.idle": "2025-09-05T13:10:21.709558Z",
     "shell.execute_reply": "2025-09-05T13:10:21.708447Z"
    },
    "id": "buJZpkZ2MX2H",
    "outputId": "1a8601b6-e646-4efb-f12e-134edc713de0",
    "papermill": {
     "duration": 0.017332,
     "end_time": "2025-09-05T13:10:21.711498",
     "exception": false,
     "start_time": "2025-09-05T13:10:21.694166",
     "status": "completed"
    },
    "tags": []
   },
   "outputs": [],
   "source": [
    "# sns.pairplot(df, hue='loan_status')\n",
    "# plt.show()"
   ]
  },
  {
   "cell_type": "markdown",
   "id": "8b5a7c7c",
   "metadata": {
    "id": "UxrtyaQpNl-Z",
    "papermill": {
     "duration": 0.009487,
     "end_time": "2025-09-05T13:10:21.731096",
     "exception": false,
     "start_time": "2025-09-05T13:10:21.721609",
     "status": "completed"
    },
    "tags": []
   },
   "source": [
    "## Train Test Split"
   ]
  },
  {
   "cell_type": "code",
   "execution_count": 12,
   "id": "a4249941",
   "metadata": {
    "execution": {
     "iopub.execute_input": "2025-09-05T13:10:21.751888Z",
     "iopub.status.busy": "2025-09-05T13:10:21.751580Z",
     "iopub.status.idle": "2025-09-05T13:10:21.766399Z",
     "shell.execute_reply": "2025-09-05T13:10:21.765050Z"
    },
    "id": "jeXSRBikmTLu",
    "papermill": {
     "duration": 0.02762,
     "end_time": "2025-09-05T13:10:21.768321",
     "exception": false,
     "start_time": "2025-09-05T13:10:21.740701",
     "status": "completed"
    },
    "tags": []
   },
   "outputs": [],
   "source": [
    "from sklearn.model_selection import train_test_split\n",
    "\n",
    "X = df.drop(columns=['loan_id','loan_status'])\n",
    "y = df['loan_status']\n",
    "\n",
    "X_train, X_test, y_train, y_test = train_test_split(\n",
    "    X, y, test_size=0.2, stratify=y, random_state=42\n",
    ")\n"
   ]
  },
  {
   "cell_type": "markdown",
   "id": "b729d7fc",
   "metadata": {
    "id": "D2MDxwHNN7GY",
    "papermill": {
     "duration": 0.009862,
     "end_time": "2025-09-05T13:10:21.789550",
     "exception": false,
     "start_time": "2025-09-05T13:10:21.779688",
     "status": "completed"
    },
    "tags": []
   },
   "source": [
    "## Logistic Regression"
   ]
  },
  {
   "cell_type": "code",
   "execution_count": 13,
   "id": "e5c6ea16",
   "metadata": {
    "execution": {
     "iopub.execute_input": "2025-09-05T13:10:21.812068Z",
     "iopub.status.busy": "2025-09-05T13:10:21.811308Z",
     "iopub.status.idle": "2025-09-05T13:10:22.056601Z",
     "shell.execute_reply": "2025-09-05T13:10:22.053522Z"
    },
    "id": "VAIAcenDOHM2",
    "papermill": {
     "duration": 0.265276,
     "end_time": "2025-09-05T13:10:22.064775",
     "exception": false,
     "start_time": "2025-09-05T13:10:21.799499",
     "status": "completed"
    },
    "tags": []
   },
   "outputs": [],
   "source": [
    "log_reg = LogisticRegression(max_iter=1000)\n",
    "log_reg.fit(X_train, y_train)\n",
    "y_pred_lr = log_reg.predict(X_test)"
   ]
  },
  {
   "cell_type": "code",
   "execution_count": 14,
   "id": "a2c14afa",
   "metadata": {
    "execution": {
     "iopub.execute_input": "2025-09-05T13:10:22.105616Z",
     "iopub.status.busy": "2025-09-05T13:10:22.103750Z",
     "iopub.status.idle": "2025-09-05T13:10:22.123061Z",
     "shell.execute_reply": "2025-09-05T13:10:22.122295Z"
    },
    "id": "qYa4JvzMOdcc",
    "outputId": "34f4e79d-5fe9-449c-d2a3-20cc512afc93",
    "papermill": {
     "duration": 0.038716,
     "end_time": "2025-09-05T13:10:22.125621",
     "exception": false,
     "start_time": "2025-09-05T13:10:22.086905",
     "status": "completed"
    },
    "tags": []
   },
   "outputs": [
    {
     "name": "stdout",
     "output_type": "stream",
     "text": [
      "Logistic Regression Report:\n",
      "               precision    recall  f1-score   support\n",
      "\n",
      "           0       0.72      0.95      0.82       531\n",
      "           1       0.82      0.40      0.54       323\n",
      "\n",
      "    accuracy                           0.74       854\n",
      "   macro avg       0.77      0.67      0.68       854\n",
      "weighted avg       0.76      0.74      0.71       854\n",
      "\n"
     ]
    }
   ],
   "source": [
    "print(\"Logistic Regression Report:\\n\", classification_report(y_test, y_pred_lr))\n"
   ]
  },
  {
   "cell_type": "markdown",
   "id": "25b02904",
   "metadata": {
    "id": "MyftE6qePqnA",
    "papermill": {
     "duration": 0.016129,
     "end_time": "2025-09-05T13:10:22.159680",
     "exception": false,
     "start_time": "2025-09-05T13:10:22.143551",
     "status": "completed"
    },
    "tags": []
   },
   "source": [
    "---\n",
    "\n",
    "### 🔹 Metrics Explained\n",
    "\n",
    "#### ✅ Precision\n",
    "- **Definition**: Out of all predicted positives, how many were actually correct?  \n",
    "- **Formula**: `TP / (TP + FP)`  \n",
    "- **Meaning**: \"When the model says **YES**, how often is it right?\"\n",
    "\n",
    "#### ✅ Recall (Sensitivity or True Positive Rate)\n",
    "- **Definition**: Out of all actual positives, how many did the model catch?  \n",
    "- **Formula**: `TP / (TP + FN)`  \n",
    "- **Meaning**: \"How good is the model at finding all the **YES** cases?\"\n",
    "\n",
    "#### ✅ F1-Score\n",
    "- **Definition**: Harmonic mean of Precision and Recall.  \n",
    "- **Formula**: `2 * (Precision * Recall) / (Precision + Recall)`  \n",
    "- **Meaning**: Balance between **precision** and **recall**. Useful when classes are imbalanced.\n",
    "\n",
    "#### ✅ Support\n",
    "- **Definition**: The number of actual examples of each class in the dataset.\n",
    "\n",
    "---\n",
    "\n",
    "### 🔹 Results Breakdown\n",
    "\n",
    "#### Class 0\n",
    "- **Precision = 0.72** → When the model predicted class `0`, it was correct **72% of the time**.  \n",
    "- **Recall = 0.95** → Out of all actual `0`s, the model caught **95% of them**.  \n",
    "- **F1-Score = 0.82** → Good balance between precision and recall.  \n",
    "- **Support = 531** → There were **531 actual samples** of class `0`.\n",
    "\n",
    "#### Class 1\n",
    "- **Precision = 0.82** → When the model predicted class `1`, it was correct **82% of the time**.  \n",
    "- **Recall = 0.40** → Out of all actual `1`s, the model found **40% of them**.  \n",
    "- **F1-Score = 0.54** → Decent but lower than class `0`.  \n",
    "- **Support = 323** → There were **323 actual samples** of class `1`.\n",
    "\n",
    "---\n",
    "\n",
    "### 🔹 4. Overall Scores\n",
    "\n",
    "- **Accuracy = 0.74** → The model is correct **74% of the time** (out of 854 predictions).  \n",
    "- **Macro Avg = 0.68** → Average of metrics across both classes, treating them equally.  \n",
    "- **Weighted Avg = 0.71** → Average of metrics, but gives more importance to classes with more samples (since class `0` has more data than class `1`).\n",
    "\n",
    "---"
   ]
  },
  {
   "cell_type": "code",
   "execution_count": 15,
   "id": "0f190b9c",
   "metadata": {
    "execution": {
     "iopub.execute_input": "2025-09-05T13:10:22.183648Z",
     "iopub.status.busy": "2025-09-05T13:10:22.183227Z",
     "iopub.status.idle": "2025-09-05T13:10:22.192612Z",
     "shell.execute_reply": "2025-09-05T13:10:22.191580Z"
    },
    "id": "4niBc9yIOqiF",
    "outputId": "6ccbad86-9344-4925-c88e-fe9e4e2e5589",
    "papermill": {
     "duration": 0.022203,
     "end_time": "2025-09-05T13:10:22.194298",
     "exception": false,
     "start_time": "2025-09-05T13:10:22.172095",
     "status": "completed"
    },
    "tags": []
   },
   "outputs": [
    {
     "name": "stdout",
     "output_type": "stream",
     "text": [
      "Confusion Matrix:\n",
      " [[503  28]\n",
      " [194 129]]\n"
     ]
    }
   ],
   "source": [
    "print(\"Confusion Matrix:\\n\", confusion_matrix(y_test, y_pred_lr))\n"
   ]
  },
  {
   "cell_type": "markdown",
   "id": "7dd51354",
   "metadata": {
    "id": "1kl1Bc8BOTu9",
    "papermill": {
     "duration": 0.009431,
     "end_time": "2025-09-05T13:10:22.213489",
     "exception": false,
     "start_time": "2025-09-05T13:10:22.204058",
     "status": "completed"
    },
    "tags": []
   },
   "source": [
    "## Decision Tree"
   ]
  },
  {
   "cell_type": "code",
   "execution_count": 16,
   "id": "005ef685",
   "metadata": {
    "execution": {
     "iopub.execute_input": "2025-09-05T13:10:22.234487Z",
     "iopub.status.busy": "2025-09-05T13:10:22.234116Z",
     "iopub.status.idle": "2025-09-05T13:10:22.251590Z",
     "shell.execute_reply": "2025-09-05T13:10:22.250508Z"
    },
    "id": "B4MN8hwwmdxD",
    "papermill": {
     "duration": 0.0303,
     "end_time": "2025-09-05T13:10:22.253537",
     "exception": false,
     "start_time": "2025-09-05T13:10:22.223237",
     "status": "completed"
    },
    "tags": []
   },
   "outputs": [],
   "source": [
    "dt = DecisionTreeClassifier(max_depth=6, random_state=42)\n",
    "dt.fit(X_train, y_train)\n",
    "y_pred_dt = dt.predict(X_test)"
   ]
  },
  {
   "cell_type": "code",
   "execution_count": 17,
   "id": "fca14e73",
   "metadata": {
    "execution": {
     "iopub.execute_input": "2025-09-05T13:10:22.276188Z",
     "iopub.status.busy": "2025-09-05T13:10:22.275861Z",
     "iopub.status.idle": "2025-09-05T13:10:22.290323Z",
     "shell.execute_reply": "2025-09-05T13:10:22.289039Z"
    },
    "id": "-wcy-0DpmfvB",
    "outputId": "daa3f111-7b07-44b0-f751-2357b10663f4",
    "papermill": {
     "duration": 0.026896,
     "end_time": "2025-09-05T13:10:22.291996",
     "exception": false,
     "start_time": "2025-09-05T13:10:22.265100",
     "status": "completed"
    },
    "tags": []
   },
   "outputs": [
    {
     "name": "stdout",
     "output_type": "stream",
     "text": [
      "Decision Tree Report:\n",
      "               precision    recall  f1-score   support\n",
      "\n",
      "           0       0.96      0.99      0.98       531\n",
      "           1       0.99      0.93      0.96       323\n",
      "\n",
      "    accuracy                           0.97       854\n",
      "   macro avg       0.98      0.96      0.97       854\n",
      "weighted avg       0.97      0.97      0.97       854\n",
      "\n"
     ]
    }
   ],
   "source": [
    "print(\"Decision Tree Report:\\n\", classification_report(y_test, y_pred_dt))"
   ]
  },
  {
   "cell_type": "markdown",
   "id": "708cffad",
   "metadata": {
    "id": "7E2NgLn9RSN_",
    "papermill": {
     "duration": 0.009936,
     "end_time": "2025-09-05T13:10:22.312146",
     "exception": false,
     "start_time": "2025-09-05T13:10:22.302210",
     "status": "completed"
    },
    "tags": []
   },
   "source": [
    "---\n",
    "\n",
    "### 🔹 Metrics Explained\n",
    "\n",
    "#### Class 0\n",
    "- **Precision = 0.96** → When the model predicted class `0`, it was correct **96% of the time**.  \n",
    "- **Recall = 0.99** → Out of all actual `0`s, the model caught **99% of them**.  \n",
    "- **F1-Score = 0.98** → Excellent balance between precision and recall.  \n",
    "- **Support = 531** → There were **531 actual samples** of class `0`.\n",
    "\n",
    "#### Class 1\n",
    "- **Precision = 0.99** → When the model predicted class `1`, it was correct **99% of the time**.  \n",
    "- **Recall = 0.93** → Out of all actual `1`s, the model found **93% of them**.  \n",
    "- **F1-Score = 0.96** → Very strong performance, slightly lower than class `0`.  \n",
    "- **Support = 323** → There were **323 actual samples** of class `1`.\n",
    "\n",
    "---\n",
    "\n",
    "### 🔹 Overall Scores\n",
    "\n",
    "- **Accuracy = 0.97** → The model is correct **97% of the time** (out of 854 predictions).  \n",
    "- **Macro Avg = 0.97** → Average of metrics across both classes, treating them equally.  \n",
    "- **Weighted Avg = 0.97** → Average of metrics, but weighted by the number of samples (class `0` has more data, so it influences the score slightly more).  \n",
    "\n",
    "---\n",
    "\n"
   ]
  },
  {
   "cell_type": "code",
   "execution_count": 18,
   "id": "e0329928",
   "metadata": {
    "execution": {
     "iopub.execute_input": "2025-09-05T13:10:22.334689Z",
     "iopub.status.busy": "2025-09-05T13:10:22.334359Z",
     "iopub.status.idle": "2025-09-05T13:10:22.343985Z",
     "shell.execute_reply": "2025-09-05T13:10:22.342855Z"
    },
    "id": "NtbwY-QLRiM5",
    "outputId": "b14e7fb2-79b3-4fb2-af9b-77f116053aff",
    "papermill": {
     "duration": 0.023874,
     "end_time": "2025-09-05T13:10:22.346202",
     "exception": false,
     "start_time": "2025-09-05T13:10:22.322328",
     "status": "completed"
    },
    "tags": []
   },
   "outputs": [
    {
     "name": "stdout",
     "output_type": "stream",
     "text": [
      "Confusion Matrix:\n",
      " [[528   3]\n",
      " [ 21 302]]\n"
     ]
    }
   ],
   "source": [
    "print(\"Confusion Matrix:\\n\", confusion_matrix(y_test, y_pred_dt))"
   ]
  },
  {
   "cell_type": "markdown",
   "id": "9c8c0831",
   "metadata": {
    "id": "v3Afwb7wRlIq",
    "papermill": {
     "duration": 0.011997,
     "end_time": "2025-09-05T13:10:22.368754",
     "exception": false,
     "start_time": "2025-09-05T13:10:22.356757",
     "status": "completed"
    },
    "tags": []
   },
   "source": [
    "## 🎯 Final Interpretation\n",
    "- The **Decision Tree** performed **exceptionally well** with very high scores in both classes.  \n",
    "- It is slightly better at predicting **class 0** compared to class 1, but the difference is very small.  \n",
    "- With **97% accuracy**, this model is **much stronger** than Logistic Regression (79% accuracy).  \n",
    "- This indicates that the Decision Tree has captured the patterns in the data very effectively.  \n"
   ]
  }
 ],
 "metadata": {
  "colab": {
   "provenance": []
  },
  "kaggle": {
   "accelerator": "none",
   "dataSources": [
    {
     "datasetId": 3523739,
     "sourceId": 6144787,
     "sourceType": "datasetVersion"
    }
   ],
   "dockerImageVersionId": 31089,
   "isGpuEnabled": false,
   "isInternetEnabled": true,
   "language": "python",
   "sourceType": "notebook"
  },
  "kernelspec": {
   "display_name": "Python 3",
   "language": "python",
   "name": "python3"
  },
  "language_info": {
   "codemirror_mode": {
    "name": "ipython",
    "version": 3
   },
   "file_extension": ".py",
   "mimetype": "text/x-python",
   "name": "python",
   "nbconvert_exporter": "python",
   "pygments_lexer": "ipython3",
   "version": "3.11.13"
  },
  "papermill": {
   "default_parameters": {},
   "duration": 14.797997,
   "end_time": "2025-09-05T13:10:23.203994",
   "environment_variables": {},
   "exception": null,
   "input_path": "__notebook__.ipynb",
   "output_path": "__notebook__.ipynb",
   "parameters": {},
   "start_time": "2025-09-05T13:10:08.405997",
   "version": "2.6.0"
  }
 },
 "nbformat": 4,
 "nbformat_minor": 5
}
