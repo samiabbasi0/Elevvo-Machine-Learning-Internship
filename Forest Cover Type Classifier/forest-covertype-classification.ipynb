{
 "cells": [
  {
   "cell_type": "markdown",
   "id": "9aedb98f",
   "metadata": {
    "id": "VnKmVzHYNWyA",
    "papermill": {
     "duration": 0.005376,
     "end_time": "2025-09-08T16:05:08.948795",
     "exception": false,
     "start_time": "2025-09-08T16:05:08.943419",
     "status": "completed"
    },
    "tags": []
   },
   "source": [
    "# Forest Covertype Classification"
   ]
  },
  {
   "cell_type": "markdown",
   "id": "4291cd31",
   "metadata": {
    "id": "Cf2H5H03rHnY",
    "papermill": {
     "duration": 0.003821,
     "end_time": "2025-09-08T16:05:08.956936",
     "exception": false,
     "start_time": "2025-09-08T16:05:08.953115",
     "status": "completed"
    },
    "tags": []
   },
   "source": [
    "## Step 1: Importing libraries\n"
   ]
  },
  {
   "cell_type": "code",
   "execution_count": 1,
   "id": "e2224d71",
   "metadata": {
    "execution": {
     "iopub.execute_input": "2025-09-08T16:05:08.968665Z",
     "iopub.status.busy": "2025-09-08T16:05:08.968218Z",
     "iopub.status.idle": "2025-09-08T16:05:14.509263Z",
     "shell.execute_reply": "2025-09-08T16:05:14.507761Z"
    },
    "id": "-CkUMfLwO4h9",
    "outputId": "1b3b5d91-8dfd-433b-d0c4-e28a663a58b2",
    "papermill": {
     "duration": 5.549772,
     "end_time": "2025-09-08T16:05:14.511091",
     "exception": false,
     "start_time": "2025-09-08T16:05:08.961319",
     "status": "completed"
    },
    "tags": []
   },
   "outputs": [
    {
     "data": {
      "text/plain": [
       "(581012, 55)"
      ]
     },
     "execution_count": 1,
     "metadata": {},
     "output_type": "execute_result"
    }
   ],
   "source": [
    "import pandas as pd\n",
    "\n",
    "df = pd.read_csv('/kaggle/input/forest-cover-type-dataset/covtype.csv')\n",
    "\n",
    "df.shape"
   ]
  },
  {
   "cell_type": "code",
   "execution_count": 2,
   "id": "cdaebf1b",
   "metadata": {
    "execution": {
     "iopub.execute_input": "2025-09-08T16:05:14.522678Z",
     "iopub.status.busy": "2025-09-08T16:05:14.522303Z",
     "iopub.status.idle": "2025-09-08T16:05:14.552896Z",
     "shell.execute_reply": "2025-09-08T16:05:14.551676Z"
    },
    "id": "wST1vFpZPZIS",
    "outputId": "b6b9bb55-a990-43e9-f90b-63957a57404e",
    "papermill": {
     "duration": 0.039382,
     "end_time": "2025-09-08T16:05:14.555033",
     "exception": false,
     "start_time": "2025-09-08T16:05:14.515651",
     "status": "completed"
    },
    "tags": []
   },
   "outputs": [
    {
     "data": {
      "text/plain": [
       "Cover_Type\n",
       "2    283301\n",
       "1    211840\n",
       "3     35754\n",
       "7     20510\n",
       "6     17367\n",
       "5      9493\n",
       "4      2747\n",
       "Name: count, dtype: int64"
      ]
     },
     "execution_count": 2,
     "metadata": {},
     "output_type": "execute_result"
    }
   ],
   "source": [
    "df['Cover_Type'].value_counts()"
   ]
  },
  {
   "cell_type": "code",
   "execution_count": 3,
   "id": "72b81070",
   "metadata": {
    "execution": {
     "iopub.execute_input": "2025-09-08T16:05:14.564777Z",
     "iopub.status.busy": "2025-09-08T16:05:14.564438Z",
     "iopub.status.idle": "2025-09-08T16:05:14.591617Z",
     "shell.execute_reply": "2025-09-08T16:05:14.590283Z"
    },
    "id": "4vWecoRUQTxp",
    "outputId": "053454ff-1136-4bd2-d6bb-e03ec178a635",
    "papermill": {
     "duration": 0.0341,
     "end_time": "2025-09-08T16:05:14.593431",
     "exception": false,
     "start_time": "2025-09-08T16:05:14.559331",
     "status": "completed"
    },
    "tags": []
   },
   "outputs": [
    {
     "data": {
      "text/html": [
       "<div>\n",
       "<style scoped>\n",
       "    .dataframe tbody tr th:only-of-type {\n",
       "        vertical-align: middle;\n",
       "    }\n",
       "\n",
       "    .dataframe tbody tr th {\n",
       "        vertical-align: top;\n",
       "    }\n",
       "\n",
       "    .dataframe thead th {\n",
       "        text-align: right;\n",
       "    }\n",
       "</style>\n",
       "<table border=\"1\" class=\"dataframe\">\n",
       "  <thead>\n",
       "    <tr style=\"text-align: right;\">\n",
       "      <th></th>\n",
       "      <th>Elevation</th>\n",
       "      <th>Aspect</th>\n",
       "      <th>Slope</th>\n",
       "      <th>Horizontal_Distance_To_Hydrology</th>\n",
       "      <th>Vertical_Distance_To_Hydrology</th>\n",
       "      <th>Horizontal_Distance_To_Roadways</th>\n",
       "      <th>Hillshade_9am</th>\n",
       "      <th>Hillshade_Noon</th>\n",
       "      <th>Hillshade_3pm</th>\n",
       "      <th>Horizontal_Distance_To_Fire_Points</th>\n",
       "      <th>...</th>\n",
       "      <th>Soil_Type32</th>\n",
       "      <th>Soil_Type33</th>\n",
       "      <th>Soil_Type34</th>\n",
       "      <th>Soil_Type35</th>\n",
       "      <th>Soil_Type36</th>\n",
       "      <th>Soil_Type37</th>\n",
       "      <th>Soil_Type38</th>\n",
       "      <th>Soil_Type39</th>\n",
       "      <th>Soil_Type40</th>\n",
       "      <th>Cover_Type</th>\n",
       "    </tr>\n",
       "  </thead>\n",
       "  <tbody>\n",
       "    <tr>\n",
       "      <th>0</th>\n",
       "      <td>2596</td>\n",
       "      <td>51</td>\n",
       "      <td>3</td>\n",
       "      <td>258</td>\n",
       "      <td>0</td>\n",
       "      <td>510</td>\n",
       "      <td>221</td>\n",
       "      <td>232</td>\n",
       "      <td>148</td>\n",
       "      <td>6279</td>\n",
       "      <td>...</td>\n",
       "      <td>0</td>\n",
       "      <td>0</td>\n",
       "      <td>0</td>\n",
       "      <td>0</td>\n",
       "      <td>0</td>\n",
       "      <td>0</td>\n",
       "      <td>0</td>\n",
       "      <td>0</td>\n",
       "      <td>0</td>\n",
       "      <td>5</td>\n",
       "    </tr>\n",
       "    <tr>\n",
       "      <th>1</th>\n",
       "      <td>2590</td>\n",
       "      <td>56</td>\n",
       "      <td>2</td>\n",
       "      <td>212</td>\n",
       "      <td>-6</td>\n",
       "      <td>390</td>\n",
       "      <td>220</td>\n",
       "      <td>235</td>\n",
       "      <td>151</td>\n",
       "      <td>6225</td>\n",
       "      <td>...</td>\n",
       "      <td>0</td>\n",
       "      <td>0</td>\n",
       "      <td>0</td>\n",
       "      <td>0</td>\n",
       "      <td>0</td>\n",
       "      <td>0</td>\n",
       "      <td>0</td>\n",
       "      <td>0</td>\n",
       "      <td>0</td>\n",
       "      <td>5</td>\n",
       "    </tr>\n",
       "  </tbody>\n",
       "</table>\n",
       "<p>2 rows × 55 columns</p>\n",
       "</div>"
      ],
      "text/plain": [
       "   Elevation  Aspect  Slope  Horizontal_Distance_To_Hydrology  \\\n",
       "0       2596      51      3                               258   \n",
       "1       2590      56      2                               212   \n",
       "\n",
       "   Vertical_Distance_To_Hydrology  Horizontal_Distance_To_Roadways  \\\n",
       "0                               0                              510   \n",
       "1                              -6                              390   \n",
       "\n",
       "   Hillshade_9am  Hillshade_Noon  Hillshade_3pm  \\\n",
       "0            221             232            148   \n",
       "1            220             235            151   \n",
       "\n",
       "   Horizontal_Distance_To_Fire_Points  ...  Soil_Type32  Soil_Type33  \\\n",
       "0                                6279  ...            0            0   \n",
       "1                                6225  ...            0            0   \n",
       "\n",
       "   Soil_Type34  Soil_Type35  Soil_Type36  Soil_Type37  Soil_Type38  \\\n",
       "0            0            0            0            0            0   \n",
       "1            0            0            0            0            0   \n",
       "\n",
       "   Soil_Type39  Soil_Type40  Cover_Type  \n",
       "0            0            0           5  \n",
       "1            0            0           5  \n",
       "\n",
       "[2 rows x 55 columns]"
      ]
     },
     "execution_count": 3,
     "metadata": {},
     "output_type": "execute_result"
    }
   ],
   "source": [
    "df.head(2)"
   ]
  },
  {
   "cell_type": "markdown",
   "id": "97d6c96b",
   "metadata": {
    "id": "11K-ZIBxQ1fF",
    "papermill": {
     "duration": 0.004572,
     "end_time": "2025-09-08T16:05:14.603176",
     "exception": false,
     "start_time": "2025-09-08T16:05:14.598604",
     "status": "completed"
    },
    "tags": []
   },
   "source": [
    "## Step 2: Train Test split"
   ]
  },
  {
   "cell_type": "code",
   "execution_count": 4,
   "id": "037ce31d",
   "metadata": {
    "execution": {
     "iopub.execute_input": "2025-09-08T16:05:14.614868Z",
     "iopub.status.busy": "2025-09-08T16:05:14.614524Z",
     "iopub.status.idle": "2025-09-08T16:05:17.612576Z",
     "shell.execute_reply": "2025-09-08T16:05:17.610990Z"
    },
    "id": "KLARI6hvQnhP",
    "outputId": "defe76e2-5281-4b7d-b021-2c06952b3ef8",
    "papermill": {
     "duration": 3.005948,
     "end_time": "2025-09-08T16:05:17.614418",
     "exception": false,
     "start_time": "2025-09-08T16:05:14.608470",
     "status": "completed"
    },
    "tags": []
   },
   "outputs": [
    {
     "name": "stdout",
     "output_type": "stream",
     "text": [
      "Train class distribution:\n",
      "Cover_Type\n",
      "2    0.487598\n",
      "1    0.364606\n",
      "3    0.061537\n",
      "7    0.035301\n",
      "6    0.029892\n",
      "5    0.016338\n",
      "4    0.004729\n",
      "Name: proportion, dtype: float64\n",
      "\n",
      "Test class distribution:\n",
      "Cover_Type\n",
      "2    0.487604\n",
      "1    0.364603\n",
      "3    0.061539\n",
      "7    0.035300\n",
      "6    0.029887\n",
      "5    0.016342\n",
      "4    0.004724\n",
      "Name: proportion, dtype: float64\n"
     ]
    }
   ],
   "source": [
    "from sklearn.model_selection import train_test_split\n",
    "\n",
    "# Step 1: Split features and target\n",
    "X = df.drop('Cover_Type', axis=1)\n",
    "y = df['Cover_Type']\n",
    "\n",
    "# Step 2: Train-test split\n",
    "X_train, X_test, y_train, y_test = train_test_split(\n",
    "    X, y,\n",
    "    test_size=0.2,\n",
    "    stratify=y,    # maintain class ratio\n",
    "    random_state=42\n",
    ")\n",
    "\n",
    "# Step 3: Check distribution after split\n",
    "print(\"Train class distribution:\")\n",
    "print(y_train.value_counts(normalize=True))\n",
    "\n",
    "print(\"\\nTest class distribution:\")\n",
    "print(y_test.value_counts(normalize=True))\n"
   ]
  },
  {
   "cell_type": "markdown",
   "id": "6a3a92c8",
   "metadata": {
    "id": "51z2v9qqRYsj",
    "papermill": {
     "duration": 0.004323,
     "end_time": "2025-09-08T16:05:17.623553",
     "exception": false,
     "start_time": "2025-09-08T16:05:17.619230",
     "status": "completed"
    },
    "tags": []
   },
   "source": [
    "## Step 3: Decision Tree Classifier Model"
   ]
  },
  {
   "cell_type": "code",
   "execution_count": 5,
   "id": "fed2712e",
   "metadata": {
    "execution": {
     "iopub.execute_input": "2025-09-08T16:05:17.637044Z",
     "iopub.status.busy": "2025-09-08T16:05:17.636490Z",
     "iopub.status.idle": "2025-09-08T16:05:23.530054Z",
     "shell.execute_reply": "2025-09-08T16:05:23.528954Z"
    },
    "id": "kBT9ISjuRFaD",
    "outputId": "77bc35ec-9ec4-4e5d-b562-99b023b7a225",
    "papermill": {
     "duration": 5.901355,
     "end_time": "2025-09-08T16:05:23.531645",
     "exception": false,
     "start_time": "2025-09-08T16:05:17.630290",
     "status": "completed"
    },
    "tags": []
   },
   "outputs": [
    {
     "name": "stdout",
     "output_type": "stream",
     "text": [
      "Decision Tree Report:\n",
      "              precision    recall  f1-score   support\n",
      "\n",
      "           1       0.77      0.75      0.76     42368\n",
      "           2       0.78      0.84      0.81     56661\n",
      "           3       0.76      0.81      0.79      7151\n",
      "           4       0.80      0.66      0.72       549\n",
      "           5       0.79      0.26      0.39      1899\n",
      "           6       0.63      0.37      0.47      3473\n",
      "           7       0.88      0.70      0.78      4102\n",
      "\n",
      "    accuracy                           0.78    116203\n",
      "   macro avg       0.77      0.63      0.67    116203\n",
      "weighted avg       0.78      0.78      0.77    116203\n",
      "\n",
      "Confusion Matrix:\n",
      " [[31618 10354     4     0    18     0   374]\n",
      " [ 8177 47721   364     2   109   276    12]\n",
      " [    0   814  5826    68     0   443     0]\n",
      " [    0     0   166   362     0    21     0]\n",
      " [   85  1304    24     0   486     0     0]\n",
      " [   21   901  1242    22     3  1284     0]\n",
      " [ 1135    82     0     0     0     0  2885]]\n"
     ]
    }
   ],
   "source": [
    "from sklearn.tree import DecisionTreeClassifier\n",
    "from sklearn.metrics import classification_report, confusion_matrix\n",
    "\n",
    "# Step 1: Train a Decision Tree (shallow baseline)\n",
    "dt = DecisionTreeClassifier(max_depth=10, random_state=42)\n",
    "dt.fit(X_train, y_train)\n",
    "\n",
    "# Step 2: Predictions\n",
    "y_pred_dt = dt.predict(X_test)\n",
    "\n",
    "# Step 3: Evaluation\n",
    "print(\"Decision Tree Report:\")\n",
    "print(classification_report(y_test, y_pred_dt))\n",
    "\n",
    "# Step 4: Confusion Matrix\n",
    "cm = confusion_matrix(y_test, y_pred_dt)\n",
    "print(\"Confusion Matrix:\\n\", cm)\n"
   ]
  },
  {
   "cell_type": "markdown",
   "id": "5062c788",
   "metadata": {
    "id": "Lwm4UJkWR-F2",
    "papermill": {
     "duration": 0.004451,
     "end_time": "2025-09-08T16:05:23.540943",
     "exception": false,
     "start_time": "2025-09-08T16:05:23.536492",
     "status": "completed"
    },
    "tags": []
   },
   "source": [
    "## Step 4: Random Forest (Better Ensemble Tree)"
   ]
  },
  {
   "cell_type": "code",
   "execution_count": 6,
   "id": "af4beea1",
   "metadata": {
    "execution": {
     "iopub.execute_input": "2025-09-08T16:05:23.551841Z",
     "iopub.status.busy": "2025-09-08T16:05:23.551419Z",
     "iopub.status.idle": "2025-09-08T16:06:30.649829Z",
     "shell.execute_reply": "2025-09-08T16:06:30.648366Z"
    },
    "id": "m2HX6lZvRffG",
    "outputId": "af383667-c9d5-4d5f-a775-0f1b4ec12a3d",
    "papermill": {
     "duration": 67.110526,
     "end_time": "2025-09-08T16:06:30.655936",
     "exception": false,
     "start_time": "2025-09-08T16:05:23.545410",
     "status": "completed"
    },
    "tags": []
   },
   "outputs": [
    {
     "name": "stdout",
     "output_type": "stream",
     "text": [
      "Random Forest Report:\n",
      "              precision    recall  f1-score   support\n",
      "\n",
      "           1       0.96      0.94      0.95     42368\n",
      "           2       0.95      0.97      0.96     56661\n",
      "           3       0.94      0.96      0.95      7151\n",
      "           4       0.92      0.86      0.89       549\n",
      "           5       0.95      0.77      0.85      1899\n",
      "           6       0.93      0.89      0.91      3473\n",
      "           7       0.97      0.95      0.96      4102\n",
      "\n",
      "    accuracy                           0.95    116203\n",
      "   macro avg       0.95      0.91      0.92    116203\n",
      "weighted avg       0.95      0.95      0.95    116203\n",
      "\n"
     ]
    }
   ],
   "source": [
    "from sklearn.ensemble import RandomForestClassifier\n",
    "\n",
    "# Step 1: Train Random Forest\n",
    "rf = RandomForestClassifier(\n",
    "    n_estimators=100,\n",
    "    max_depth=None,   # let trees grow\n",
    "    random_state=42,\n",
    "    n_jobs=-1\n",
    ")\n",
    "rf.fit(X_train, y_train)\n",
    "\n",
    "# Step 2: Predictions\n",
    "y_pred_rf = rf.predict(X_test)\n",
    "\n",
    "# Step 3: Evaluation\n",
    "print(\"Random Forest Report:\")\n",
    "print(classification_report(y_test, y_pred_rf))\n"
   ]
  },
  {
   "cell_type": "markdown",
   "id": "2fd7fa03",
   "metadata": {
    "id": "4nEnsNMVTNrm",
    "papermill": {
     "duration": 0.004251,
     "end_time": "2025-09-08T16:06:30.665233",
     "exception": false,
     "start_time": "2025-09-08T16:06:30.660982",
     "status": "completed"
    },
    "tags": []
   },
   "source": [
    "## Step 5: XGBoost (Gradient Boosted Trees)"
   ]
  },
  {
   "cell_type": "code",
   "execution_count": 7,
   "id": "e88f85b1",
   "metadata": {
    "execution": {
     "iopub.execute_input": "2025-09-08T16:06:30.675827Z",
     "iopub.status.busy": "2025-09-08T16:06:30.675466Z",
     "iopub.status.idle": "2025-09-08T16:07:36.194331Z",
     "shell.execute_reply": "2025-09-08T16:07:36.193258Z"
    },
    "id": "4w8iO-onTRSQ",
    "outputId": "87abc040-7680-4093-8f27-c90a294e8db9",
    "papermill": {
     "duration": 65.53075,
     "end_time": "2025-09-08T16:07:36.200531",
     "exception": false,
     "start_time": "2025-09-08T16:06:30.669781",
     "status": "completed"
    },
    "tags": []
   },
   "outputs": [
    {
     "name": "stdout",
     "output_type": "stream",
     "text": [
      "XGBoost Report:\n",
      "              precision    recall  f1-score   support\n",
      "\n",
      "           1       0.89      0.87      0.88     42368\n",
      "           2       0.89      0.92      0.90     56661\n",
      "           3       0.91      0.93      0.92      7151\n",
      "           4       0.90      0.85      0.87       549\n",
      "           5       0.92      0.68      0.78      1899\n",
      "           6       0.88      0.84      0.86      3473\n",
      "           7       0.96      0.93      0.95      4102\n",
      "\n",
      "    accuracy                           0.90    116203\n",
      "   macro avg       0.91      0.86      0.88    116203\n",
      "weighted avg       0.90      0.90      0.89    116203\n",
      "\n"
     ]
    }
   ],
   "source": [
    "from sklearn.preprocessing import LabelEncoder\n",
    "\n",
    "# Encode target labels (1–7 → 0–6)\n",
    "le = LabelEncoder()\n",
    "y_train_enc = le.fit_transform(y_train)\n",
    "y_test_enc = le.transform(y_test)\n",
    "\n",
    "# Train XGBoost\n",
    "from xgboost import XGBClassifier\n",
    "\n",
    "xgb = XGBClassifier(\n",
    "    n_estimators=200,\n",
    "    learning_rate=0.1,\n",
    "    max_depth=8,\n",
    "    subsample=0.8,\n",
    "    colsample_bytree=0.8,\n",
    "    tree_method=\"hist\",\n",
    "    n_jobs=-1,\n",
    "    random_state=42\n",
    ")\n",
    "\n",
    "xgb.fit(X_train, y_train_enc)\n",
    "\n",
    "# Predictions\n",
    "y_pred_xgb = xgb.predict(X_test)\n",
    "\n",
    "# Decode predictions back to 1–7\n",
    "y_pred_xgb_decoded = le.inverse_transform(y_pred_xgb)\n",
    "\n",
    "# Evaluation\n",
    "from sklearn.metrics import classification_report\n",
    "print(\"XGBoost Report:\")\n",
    "print(classification_report(y_test, y_pred_xgb_decoded))\n"
   ]
  },
  {
   "cell_type": "markdown",
   "id": "3f97d184",
   "metadata": {
    "id": "3U7ig1jMUu7V",
    "papermill": {
     "duration": 0.004196,
     "end_time": "2025-09-08T16:07:36.209172",
     "exception": false,
     "start_time": "2025-09-08T16:07:36.204976",
     "status": "completed"
    },
    "tags": []
   },
   "source": [
    "## Step 6A: Confusion Matrix (for Random Forest)"
   ]
  },
  {
   "cell_type": "code",
   "execution_count": 8,
   "id": "66ce2a2e",
   "metadata": {
    "execution": {
     "iopub.execute_input": "2025-09-08T16:07:36.219575Z",
     "iopub.status.busy": "2025-09-08T16:07:36.219209Z",
     "iopub.status.idle": "2025-09-08T16:07:37.225223Z",
     "shell.execute_reply": "2025-09-08T16:07:37.224169Z"
    },
    "id": "BI5DXmw0Td37",
    "outputId": "9a8146a7-7496-4fe0-a198-e7fb9d817cb2",
    "papermill": {
     "duration": 1.01328,
     "end_time": "2025-09-08T16:07:37.226846",
     "exception": false,
     "start_time": "2025-09-08T16:07:36.213566",
     "status": "completed"
    },
    "tags": []
   },
   "outputs": [
    {
     "data": {
      "image/png": "[encoded data removed]",
      "text/plain": [
       "<Figure size 800x600 with 2 Axes>"
      ]
     },
     "metadata": {},
     "output_type": "display_data"
    }
   ],
   "source": [
    "import matplotlib.pyplot as plt\n",
    "import seaborn as sns\n",
    "from sklearn.metrics import confusion_matrix\n",
    "\n",
    "# Confusion matrix for Random Forest\n",
    "cm_rf = confusion_matrix(y_test, y_pred_rf)\n",
    "\n",
    "plt.figure(figsize=(8,6))\n",
    "sns.heatmap(cm_rf, annot=False, cmap=\"Blues\", fmt=\"d\")\n",
    "plt.title(\"Confusion Matrix - Random Forest\")\n",
    "plt.xlabel(\"Predicted\")\n",
    "plt.ylabel(\"True\")\n",
    "plt.show()\n"
   ]
  },
  {
   "cell_type": "markdown",
   "id": "dc180b6e",
   "metadata": {
    "id": "rcDvTieLU8Hi",
    "papermill": {
     "duration": 0.004889,
     "end_time": "2025-09-08T16:07:37.237718",
     "exception": false,
     "start_time": "2025-09-08T16:07:37.232829",
     "status": "completed"
    },
    "tags": []
   },
   "source": [
    "## Step 6B: Feature Importance (Random Forest)"
   ]
  },
  {
   "cell_type": "code",
   "execution_count": 9,
   "id": "38c55bda",
   "metadata": {
    "execution": {
     "iopub.execute_input": "2025-09-08T16:07:37.249608Z",
     "iopub.status.busy": "2025-09-08T16:07:37.249114Z",
     "iopub.status.idle": "2025-09-08T16:07:37.568143Z",
     "shell.execute_reply": "2025-09-08T16:07:37.567062Z"
    },
    "id": "daW0OysMUyhA",
    "outputId": "9b42f9a4-4693-4372-dd3f-65c176ea18ee",
    "papermill": {
     "duration": 0.327006,
     "end_time": "2025-09-08T16:07:37.569816",
     "exception": false,
     "start_time": "2025-09-08T16:07:37.242810",
     "status": "completed"
    },
    "tags": []
   },
   "outputs": [
    {
     "data": {
      "image/png": "[encoded data removed]",
      "text/plain": [
       "<Figure size 1000x600 with 1 Axes>"
      ]
     },
     "metadata": {},
     "output_type": "display_data"
    }
   ],
   "source": [
    "# Get feature importances\n",
    "importances = rf.feature_importances_\n",
    "indices = importances.argsort()[::-1][:15]  # Top 15 features\n",
    "\n",
    "plt.figure(figsize=(10,6))\n",
    "sns.barplot(x=importances[indices], y=X.columns[indices])\n",
    "plt.title(\"Top 15 Important Features (Random Forest)\")\n",
    "plt.show()\n"
   ]
  },
  {
   "cell_type": "markdown",
   "id": "19d7e0c0",
   "metadata": {
    "id": "dsy9hTlpVDS-",
    "papermill": {
     "duration": 0.006218,
     "end_time": "2025-09-08T16:07:37.582847",
     "exception": false,
     "start_time": "2025-09-08T16:07:37.576629",
     "status": "completed"
    },
    "tags": []
   },
   "source": [
    "## Step 6C: Confusion Matrix (for XGBoost)"
   ]
  },
  {
   "cell_type": "code",
   "execution_count": 10,
   "id": "d6a713be",
   "metadata": {
    "execution": {
     "iopub.execute_input": "2025-09-08T16:07:37.598096Z",
     "iopub.status.busy": "2025-09-08T16:07:37.597263Z",
     "iopub.status.idle": "2025-09-08T16:07:37.903214Z",
     "shell.execute_reply": "2025-09-08T16:07:37.902200Z"
    },
    "id": "mD1V1h_uU--1",
    "outputId": "0ddbf80d-7649-4ef8-d2d5-fee81c8e0d82",
    "papermill": {
     "duration": 0.315413,
     "end_time": "2025-09-08T16:07:37.904611",
     "exception": false,
     "start_time": "2025-09-08T16:07:37.589198",
     "status": "completed"
    },
    "tags": []
   },
   "outputs": [
    {
     "data": {
      "image/png": "[encoded data removed]",
      "text/plain": [
       "<Figure size 800x600 with 2 Axes>"
      ]
     },
     "metadata": {},
     "output_type": "display_data"
    }
   ],
   "source": [
    "# Confusion matrix for XGBoost\n",
    "cm_xgb = confusion_matrix(y_test, y_pred_xgb_decoded)\n",
    "\n",
    "plt.figure(figsize=(8,6))\n",
    "sns.heatmap(cm_xgb, annot=False, cmap=\"Greens\", fmt=\"d\")\n",
    "plt.title(\"Confusion Matrix - XGBoost\")\n",
    "plt.xlabel(\"Predicted\")\n",
    "plt.ylabel(\"True\")\n",
    "plt.show()\n"
   ]
  },
  {
   "cell_type": "markdown",
   "id": "9094b1e5",
   "metadata": {
    "id": "YLHi4WbqVHGL",
    "papermill": {
     "duration": 0.006983,
     "end_time": "2025-09-08T16:07:37.918544",
     "exception": false,
     "start_time": "2025-09-08T16:07:37.911561",
     "status": "completed"
    },
    "tags": []
   },
   "source": [
    "## Step 6D: Feature Importance (XGBoost)"
   ]
  },
  {
   "cell_type": "code",
   "execution_count": 11,
   "id": "a50c7961",
   "metadata": {
    "execution": {
     "iopub.execute_input": "2025-09-08T16:07:37.934313Z",
     "iopub.status.busy": "2025-09-08T16:07:37.934026Z",
     "iopub.status.idle": "2025-09-08T16:07:38.191499Z",
     "shell.execute_reply": "2025-09-08T16:07:38.190648Z"
    },
    "id": "WxBcoNiaVF6H",
    "outputId": "0610c443-3128-40d5-8601-480be7a96f10",
    "papermill": {
     "duration": 0.267043,
     "end_time": "2025-09-08T16:07:38.192845",
     "exception": false,
     "start_time": "2025-09-08T16:07:37.925802",
     "status": "completed"
    },
    "tags": []
   },
   "outputs": [
    {
     "data": {
      "image/png": "[encoded data removed]",
      "text/plain": [
       "<Figure size 1000x600 with 1 Axes>"
      ]
     },
     "metadata": {},
     "output_type": "display_data"
    }
   ],
   "source": [
    "# Get feature importances from XGB\n",
    "importances_xgb = xgb.feature_importances_\n",
    "indices_xgb = importances_xgb.argsort()[::-1][:15]\n",
    "\n",
    "plt.figure(figsize=(10,6))\n",
    "sns.barplot(x=importances_xgb[indices_xgb], y=X.columns[indices_xgb])\n",
    "plt.title(\"Top 15 Important Features (XGBoost)\")\n",
    "plt.show()\n"
   ]
  },
  {
   "cell_type": "markdown",
   "id": "e64891d8",
   "metadata": {
    "id": "h8XOkWoorSTy",
    "papermill": {
     "duration": 0.008608,
     "end_time": "2025-09-08T16:07:38.210897",
     "exception": false,
     "start_time": "2025-09-08T16:07:38.202289",
     "status": "completed"
    },
    "tags": []
   },
   "source": [
    "# Conclusion\n",
    "\n",
    "- Random Forest > XGBoost on this dataset.\n",
    "\n",
    "- Reason: Covertype has many binary features (40 soil + 4 wilderness) + large dataset → RF handles variance better.\n",
    "\n",
    "- XGBoost is still strong, but recall is less in minority classes (esp. class 5).Random Forest performs best on this dataset\n",
    "\n",
    "---\n",
    "\n",
    "\n",
    "| Model | Accuracy | Macro F1 | Notes |\n",
    "| :--- | :--- | :--- | :--- |\n",
    "| Decision Tree | ~0.78 | ~0.67 | Baseline, weak on minority classes |\n",
    "| Random Forest | 0.95 | 0.92 | Best overall, very strong on all classes |\n",
    "| XGBoost | 0.90 | 0.88 | Good, but here RF > XGB |\n",
    "---"
   ]
  }
 ],
 "metadata": {
  "accelerator": "GPU",
  "colab": {
   "gpuType": "T4",
   "provenance": [],
   "toc_visible": true
  },
  "kaggle": {
   "accelerator": "none",
   "dataSources": [
    {
     "datasetId": 308,
     "sourceId": 668,
     "sourceType": "datasetVersion"
    }
   ],
   "dockerImageVersionId": 31089,
   "isGpuEnabled": false,
   "isInternetEnabled": true,
   "language": "python",
   "sourceType": "notebook"
  },
  "kernelspec": {
   "display_name": "Python 3",
   "language": "python",
   "name": "python3"
  },
  "language_info": {
   "codemirror_mode": {
    "name": "ipython",
    "version": 3
   },
   "file_extension": ".py",
   "mimetype": "text/x-python",
   "name": "python",
   "nbconvert_exporter": "python",
   "pygments_lexer": "ipython3",
   "version": "3.11.13"
  },
  "papermill": {
   "default_parameters": {},
   "duration": 156.928705,
   "end_time": "2025-09-08T16:07:39.242239",
   "environment_variables": {},
   "exception": null,
   "input_path": "__notebook__.ipynb",
   "output_path": "__notebook__.ipynb",
   "parameters": {},
   "start_time": "2025-09-08T16:05:02.313534",
   "version": "2.6.0"
  }
 },
 "nbformat": 4,
 "nbformat_minor": 5
}
