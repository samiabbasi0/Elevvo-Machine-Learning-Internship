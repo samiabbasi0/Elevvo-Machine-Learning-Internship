{
 "cells": [
  {
   "cell_type": "markdown",
   "id": "olive-values",
   "metadata": {
    "id": "5xuQeBoPT82Q",
    "papermill": {
     "duration": 0.033629,
     "end_time": "2021-06-07T12:36:50.094792",
     "exception": false,
     "start_time": "2021-06-07T12:36:50.061163",
     "status": "completed"
    },
    "tags": []
   },
   "source": [
    "<h1> Content Based Movie Recommender System </h1>\n"
   ]
  },
  {
   "cell_type": "markdown",
   "id": "related-incident",
   "metadata": {
    "id": "DQ8MIgmoVzw_",
    "papermill": {
     "duration": 0.029523,
     "end_time": "2021-06-07T12:36:50.154272",
     "exception": false,
     "start_time": "2021-06-07T12:36:50.124749",
     "status": "completed"
    },
    "tags": []
   },
   "source": [
    "<h3>Project Planning :</h3> \n",
    "\n",
    "  - **Exploring Data -**\n",
    "    - Understand the nature of the data *.info()*\n",
    "    - Getting unique users, titles, and genres.\n",
    "    - Obtaining insights on the Number of Ratings, Average Rating, and their relation via various graphs\n",
    "    \n",
    "  - **Building a System -**\n",
    "    - Creating a pivot table\n",
    "    - Making suggestions using a single title. \n",
    "\n",
    "  - **Recommendation System -**\n",
    "    - Creating a function '*similar_to*' for fetching likable titles to user-specified movies. \n",
    "    - Keyword search privilege for a user to select a specific movie title from the dataset.\n",
    "    - Suggesting movies along with match percentage and number of ratings similar to the user-selected title. "
   ]
  },
  {
   "cell_type": "markdown",
   "id": "expensive-blend",
   "metadata": {
    "id": "f8CedN0FV2ZQ",
    "papermill": {
     "duration": 0.030731,
     "end_time": "2021-06-07T12:36:50.214633",
     "exception": false,
     "start_time": "2021-06-07T12:36:50.183902",
     "status": "completed"
    },
    "tags": []
   },
   "source": [
    "# Importing Libraries"
   ]
  },
  {
   "cell_type": "code",
   "execution_count": 1,
   "id": "rational-fairy",
   "metadata": {
    "execution": {
     "iopub.execute_input": "2021-06-07T12:36:50.283666Z",
     "iopub.status.busy": "2021-06-07T12:36:50.282758Z",
     "iopub.status.idle": "2021-06-07T12:36:51.228958Z",
     "shell.execute_reply": "2021-06-07T12:36:51.227284Z",
     "shell.execute_reply.started": "2021-06-07T12:33:58.763529Z"
    },
    "id": "67EYfw3IGBQn",
    "papermill": {
     "duration": 0.984853,
     "end_time": "2021-06-07T12:36:51.229173",
     "exception": false,
     "start_time": "2021-06-07T12:36:50.244320",
     "status": "completed"
    },
    "tags": []
   },
   "outputs": [],
   "source": [
    "import numpy as np\n",
    "import pandas as pd\n",
    "import sys\n",
    "\n",
    "import matplotlib\n",
    "import matplotlib.pyplot as plt\n",
    "import seaborn as sns\n",
    "%matplotlib inline\n",
    "sns.set_style('whitegrid')\n",
    "sns.set_context('notebook')\n",
    "matplotlib.rcParams['figure.figsize'] = (15,8) "
   ]
  },
  {
   "cell_type": "markdown",
   "id": "aging-pulse",
   "metadata": {
    "id": "h9ij3HyeWcnw",
    "papermill": {
     "duration": 0.029436,
     "end_time": "2021-06-07T12:36:51.355361",
     "exception": false,
     "start_time": "2021-06-07T12:36:51.325925",
     "status": "completed"
    },
    "tags": []
   },
   "source": [
    "# Data Exploration"
   ]
  },
  {
   "cell_type": "code",
   "execution_count": 3,
   "id": "current-perspective",
   "metadata": {
    "execution": {
     "iopub.execute_input": "2021-06-07T12:36:51.420867Z",
     "iopub.status.busy": "2021-06-07T12:36:51.420136Z",
     "iopub.status.idle": "2021-06-07T12:36:51.560581Z",
     "shell.execute_reply": "2021-06-07T12:36:51.561166Z",
     "shell.execute_reply.started": "2021-06-07T12:33:59.771939Z"
    },
    "id": "y69Dr4RyWUaC",
    "papermill": {
     "duration": 0.176426,
     "end_time": "2021-06-07T12:36:51.561361",
     "exception": false,
     "start_time": "2021-06-07T12:36:51.384935",
     "status": "completed"
    },
    "tags": []
   },
   "outputs": [],
   "source": [
    "# Only movies.csv and rating.csv datasets are used\n",
    "\n",
    "\n",
    "# df_link = pd.read_csv('../input/movie-lens-latest-small-dataset-100k/ml-latest-small/links.csv')\n",
    "# df_tag = pd.read_csv('../input/movie-lens-latest-small-dataset-100k/ml-latest-small/tags.csv')\n",
    "df_movie = pd.read_csv('../input/movie-lens-latest-small-dataset-100k/ml-latest-small/movies.csv')\n",
    "df_rating = pd.read_csv('../input/movie-lens-latest-small-dataset-100k/ml-latest-small/ratings.csv')"
   ]
  },
  {
   "cell_type": "code",
   "execution_count": 4,
   "id": "robust-patient",
   "metadata": {
    "execution": {
     "iopub.execute_input": "2021-06-07T12:36:51.624975Z",
     "iopub.status.busy": "2021-06-07T12:36:51.624337Z",
     "iopub.status.idle": "2021-06-07T12:36:51.667261Z",
     "shell.execute_reply": "2021-06-07T12:36:51.667747Z",
     "shell.execute_reply.started": "2021-06-07T12:33:59.878131Z"
    },
    "id": "GBqDK-wqyWgg",
    "outputId": "a95cee07-c16c-43f0-ab95-c1b23e73ead4",
    "papermill": {
     "duration": 0.076689,
     "end_time": "2021-06-07T12:36:51.667912",
     "exception": false,
     "start_time": "2021-06-07T12:36:51.591223",
     "status": "completed"
    },
    "tags": []
   },
   "outputs": [
    {
     "name": "stdout",
     "output_type": "stream",
     "text": [
      "<class 'pandas.core.frame.DataFrame'>\n",
      "RangeIndex: 9742 entries, 0 to 9741\n",
      "Data columns (total 3 columns):\n",
      " #   Column   Non-Null Count  Dtype \n",
      "---  ------   --------------  ----- \n",
      " 0   movieId  9742 non-null   int64 \n",
      " 1   title    9742 non-null   object\n",
      " 2   genres   9742 non-null   object\n",
      "dtypes: int64(1), object(2)\n",
      "memory usage: 228.5+ KB\n"
     ]
    },
    {
     "data": {
      "text/plain": [
       "None"
      ]
     },
     "metadata": {},
     "output_type": "display_data"
    },
    {
     "name": "stdout",
     "output_type": "stream",
     "text": [
      "\n",
      "\n",
      "\n"
     ]
    },
    {
     "data": {
      "text/html": [
       "<div>\n",
       "<style scoped>\n",
       "    .dataframe tbody tr th:only-of-type {\n",
       "        vertical-align: middle;\n",
       "    }\n",
       "\n",
       "    .dataframe tbody tr th {\n",
       "        vertical-align: top;\n",
       "    }\n",
       "\n",
       "    .dataframe thead th {\n",
       "        text-align: right;\n",
       "    }\n",
       "</style>\n",
       "<table border=\"1\" class=\"dataframe\">\n",
       "  <thead>\n",
       "    <tr style=\"text-align: right;\">\n",
       "      <th></th>\n",
       "      <th>movieId</th>\n",
       "      <th>title</th>\n",
       "      <th>genres</th>\n",
       "    </tr>\n",
       "  </thead>\n",
       "  <tbody>\n",
       "    <tr>\n",
       "      <th>0</th>\n",
       "      <td>1</td>\n",
       "      <td>Toy Story (1995)</td>\n",
       "      <td>Adventure|Animation|Children|Comedy|Fantasy</td>\n",
       "    </tr>\n",
       "    <tr>\n",
       "      <th>1</th>\n",
       "      <td>2</td>\n",
       "      <td>Jumanji (1995)</td>\n",
       "      <td>Adventure|Children|Fantasy</td>\n",
       "    </tr>\n",
       "    <tr>\n",
       "      <th>2</th>\n",
       "      <td>3</td>\n",
       "      <td>Grumpier Old Men (1995)</td>\n",
       "      <td>Comedy|Romance</td>\n",
       "    </tr>\n",
       "    <tr>\n",
       "      <th>3</th>\n",
       "      <td>4</td>\n",
       "      <td>Waiting to Exhale (1995)</td>\n",
       "      <td>Comedy|Drama|Romance</td>\n",
       "    </tr>\n",
       "    <tr>\n",
       "      <th>4</th>\n",
       "      <td>5</td>\n",
       "      <td>Father of the Bride Part II (1995)</td>\n",
       "      <td>Comedy</td>\n",
       "    </tr>\n",
       "  </tbody>\n",
       "</table>\n",
       "</div>"
      ],
      "text/plain": [
       "   movieId                               title  \\\n",
       "0        1                    Toy Story (1995)   \n",
       "1        2                      Jumanji (1995)   \n",
       "2        3             Grumpier Old Men (1995)   \n",
       "3        4            Waiting to Exhale (1995)   \n",
       "4        5  Father of the Bride Part II (1995)   \n",
       "\n",
       "                                        genres  \n",
       "0  Adventure|Animation|Children|Comedy|Fantasy  \n",
       "1                   Adventure|Children|Fantasy  \n",
       "2                               Comedy|Romance  \n",
       "3                         Comedy|Drama|Romance  \n",
       "4                                       Comedy  "
      ]
     },
     "execution_count": 4,
     "metadata": {},
     "output_type": "execute_result"
    }
   ],
   "source": [
    "# Movie data\n",
    "\n",
    "display(df_movie.info())\n",
    "print('\\n\\n')\n",
    "df_movie.head()"
   ]
  },
  {
   "cell_type": "code",
   "execution_count": 5,
   "id": "according-insulation",
   "metadata": {
    "execution": {
     "iopub.execute_input": "2021-06-07T12:36:51.734489Z",
     "iopub.status.busy": "2021-06-07T12:36:51.733794Z",
     "iopub.status.idle": "2021-06-07T12:36:51.757145Z",
     "shell.execute_reply": "2021-06-07T12:36:51.757653Z",
     "shell.execute_reply.started": "2021-06-07T12:33:59.925380Z"
    },
    "id": "Gf_NQPeGyvRT",
    "outputId": "3117bfd7-ee66-44f7-d300-515b2b506a26",
    "papermill": {
     "duration": 0.058146,
     "end_time": "2021-06-07T12:36:51.757822",
     "exception": false,
     "start_time": "2021-06-07T12:36:51.699676",
     "status": "completed"
    },
    "tags": []
   },
   "outputs": [
    {
     "name": "stdout",
     "output_type": "stream",
     "text": [
      "<class 'pandas.core.frame.DataFrame'>\n",
      "RangeIndex: 100836 entries, 0 to 100835\n",
      "Data columns (total 4 columns):\n",
      " #   Column     Non-Null Count   Dtype  \n",
      "---  ------     --------------   -----  \n",
      " 0   userId     100836 non-null  int64  \n",
      " 1   movieId    100836 non-null  int64  \n",
      " 2   rating     100836 non-null  float64\n",
      " 3   timestamp  100836 non-null  int64  \n",
      "dtypes: float64(1), int64(3)\n",
      "memory usage: 3.1 MB\n"
     ]
    },
    {
     "data": {
      "text/plain": [
       "None"
      ]
     },
     "metadata": {},
     "output_type": "display_data"
    },
    {
     "name": "stdout",
     "output_type": "stream",
     "text": [
      "\n",
      "\n",
      "\n"
     ]
    },
    {
     "data": {
      "text/html": [
       "<div>\n",
       "<style scoped>\n",
       "    .dataframe tbody tr th:only-of-type {\n",
       "        vertical-align: middle;\n",
       "    }\n",
       "\n",
       "    .dataframe tbody tr th {\n",
       "        vertical-align: top;\n",
       "    }\n",
       "\n",
       "    .dataframe thead th {\n",
       "        text-align: right;\n",
       "    }\n",
       "</style>\n",
       "<table border=\"1\" class=\"dataframe\">\n",
       "  <thead>\n",
       "    <tr style=\"text-align: right;\">\n",
       "      <th></th>\n",
       "      <th>userId</th>\n",
       "      <th>movieId</th>\n",
       "      <th>rating</th>\n",
       "      <th>timestamp</th>\n",
       "    </tr>\n",
       "  </thead>\n",
       "  <tbody>\n",
       "    <tr>\n",
       "      <th>0</th>\n",
       "      <td>1</td>\n",
       "      <td>1</td>\n",
       "      <td>4.0</td>\n",
       "      <td>964982703</td>\n",
       "    </tr>\n",
       "    <tr>\n",
       "      <th>1</th>\n",
       "      <td>1</td>\n",
       "      <td>3</td>\n",
       "      <td>4.0</td>\n",
       "      <td>964981247</td>\n",
       "    </tr>\n",
       "    <tr>\n",
       "      <th>2</th>\n",
       "      <td>1</td>\n",
       "      <td>6</td>\n",
       "      <td>4.0</td>\n",
       "      <td>964982224</td>\n",
       "    </tr>\n",
       "    <tr>\n",
       "      <th>3</th>\n",
       "      <td>1</td>\n",
       "      <td>47</td>\n",
       "      <td>5.0</td>\n",
       "      <td>964983815</td>\n",
       "    </tr>\n",
       "    <tr>\n",
       "      <th>4</th>\n",
       "      <td>1</td>\n",
       "      <td>50</td>\n",
       "      <td>5.0</td>\n",
       "      <td>964982931</td>\n",
       "    </tr>\n",
       "  </tbody>\n",
       "</table>\n",
       "</div>"
      ],
      "text/plain": [
       "   userId  movieId  rating  timestamp\n",
       "0       1        1     4.0  964982703\n",
       "1       1        3     4.0  964981247\n",
       "2       1        6     4.0  964982224\n",
       "3       1       47     5.0  964983815\n",
       "4       1       50     5.0  964982931"
      ]
     },
     "execution_count": 5,
     "metadata": {},
     "output_type": "execute_result"
    }
   ],
   "source": [
    "# Ratings Data\n",
    "\n",
    "display(df_rating.info())\n",
    "print('\\n\\n')\n",
    "df_rating.head()"
   ]
  },
  {
   "cell_type": "code",
   "execution_count": 6,
   "id": "informative-answer",
   "metadata": {
    "execution": {
     "iopub.execute_input": "2021-06-07T12:36:51.834180Z",
     "iopub.status.busy": "2021-06-07T12:36:51.833445Z",
     "iopub.status.idle": "2021-06-07T12:36:51.900969Z",
     "shell.execute_reply": "2021-06-07T12:36:51.900346Z",
     "shell.execute_reply.started": "2021-06-07T12:33:59.952304Z"
    },
    "id": "wirqDdomzClI",
    "outputId": "8da5f946-4249-4710-f74d-29bdf6dfcfea",
    "papermill": {
     "duration": 0.110562,
     "end_time": "2021-06-07T12:36:51.901141",
     "exception": false,
     "start_time": "2021-06-07T12:36:51.790579",
     "status": "completed"
    },
    "tags": []
   },
   "outputs": [
    {
     "name": "stdout",
     "output_type": "stream",
     "text": [
      "<class 'pandas.core.frame.DataFrame'>\n",
      "Int64Index: 100836 entries, 0 to 100835\n",
      "Data columns (total 6 columns):\n",
      " #   Column     Non-Null Count   Dtype  \n",
      "---  ------     --------------   -----  \n",
      " 0   userId     100836 non-null  int64  \n",
      " 1   movieId    100836 non-null  int64  \n",
      " 2   rating     100836 non-null  float64\n",
      " 3   timestamp  100836 non-null  int64  \n",
      " 4   title      100836 non-null  object \n",
      " 5   genres     100836 non-null  object \n",
      "dtypes: float64(1), int64(3), object(2)\n",
      "memory usage: 5.4+ MB\n"
     ]
    },
    {
     "data": {
      "text/plain": [
       "None"
      ]
     },
     "metadata": {},
     "output_type": "display_data"
    },
    {
     "name": "stdout",
     "output_type": "stream",
     "text": [
      "\n",
      "\n",
      "\n"
     ]
    },
    {
     "data": {
      "text/html": [
       "<div>\n",
       "<style scoped>\n",
       "    .dataframe tbody tr th:only-of-type {\n",
       "        vertical-align: middle;\n",
       "    }\n",
       "\n",
       "    .dataframe tbody tr th {\n",
       "        vertical-align: top;\n",
       "    }\n",
       "\n",
       "    .dataframe thead th {\n",
       "        text-align: right;\n",
       "    }\n",
       "</style>\n",
       "<table border=\"1\" class=\"dataframe\">\n",
       "  <thead>\n",
       "    <tr style=\"text-align: right;\">\n",
       "      <th></th>\n",
       "      <th>userId</th>\n",
       "      <th>movieId</th>\n",
       "      <th>rating</th>\n",
       "      <th>timestamp</th>\n",
       "      <th>title</th>\n",
       "      <th>genres</th>\n",
       "    </tr>\n",
       "  </thead>\n",
       "  <tbody>\n",
       "    <tr>\n",
       "      <th>0</th>\n",
       "      <td>1</td>\n",
       "      <td>1</td>\n",
       "      <td>4.0</td>\n",
       "      <td>964982703</td>\n",
       "      <td>Toy Story (1995)</td>\n",
       "      <td>Adventure|Animation|Children|Comedy|Fantasy</td>\n",
       "    </tr>\n",
       "    <tr>\n",
       "      <th>1</th>\n",
       "      <td>5</td>\n",
       "      <td>1</td>\n",
       "      <td>4.0</td>\n",
       "      <td>847434962</td>\n",
       "      <td>Toy Story (1995)</td>\n",
       "      <td>Adventure|Animation|Children|Comedy|Fantasy</td>\n",
       "    </tr>\n",
       "    <tr>\n",
       "      <th>2</th>\n",
       "      <td>7</td>\n",
       "      <td>1</td>\n",
       "      <td>4.5</td>\n",
       "      <td>1106635946</td>\n",
       "      <td>Toy Story (1995)</td>\n",
       "      <td>Adventure|Animation|Children|Comedy|Fantasy</td>\n",
       "    </tr>\n",
       "    <tr>\n",
       "      <th>3</th>\n",
       "      <td>15</td>\n",
       "      <td>1</td>\n",
       "      <td>2.5</td>\n",
       "      <td>1510577970</td>\n",
       "      <td>Toy Story (1995)</td>\n",
       "      <td>Adventure|Animation|Children|Comedy|Fantasy</td>\n",
       "    </tr>\n",
       "    <tr>\n",
       "      <th>4</th>\n",
       "      <td>17</td>\n",
       "      <td>1</td>\n",
       "      <td>4.5</td>\n",
       "      <td>1305696483</td>\n",
       "      <td>Toy Story (1995)</td>\n",
       "      <td>Adventure|Animation|Children|Comedy|Fantasy</td>\n",
       "    </tr>\n",
       "  </tbody>\n",
       "</table>\n",
       "</div>"
      ],
      "text/plain": [
       "   userId  movieId  rating   timestamp             title  \\\n",
       "0       1        1     4.0   964982703  Toy Story (1995)   \n",
       "1       5        1     4.0   847434962  Toy Story (1995)   \n",
       "2       7        1     4.5  1106635946  Toy Story (1995)   \n",
       "3      15        1     2.5  1510577970  Toy Story (1995)   \n",
       "4      17        1     4.5  1305696483  Toy Story (1995)   \n",
       "\n",
       "                                        genres  \n",
       "0  Adventure|Animation|Children|Comedy|Fantasy  \n",
       "1  Adventure|Animation|Children|Comedy|Fantasy  \n",
       "2  Adventure|Animation|Children|Comedy|Fantasy  \n",
       "3  Adventure|Animation|Children|Comedy|Fantasy  \n",
       "4  Adventure|Animation|Children|Comedy|Fantasy  "
      ]
     },
     "execution_count": 6,
     "metadata": {},
     "output_type": "execute_result"
    }
   ],
   "source": [
    "# Combining both datasets in to one.\n",
    "# We have total of 100836 records in our dataset\n",
    "\n",
    "df = pd.merge(df_rating, df_movie, on='movieId')\n",
    "\n",
    "display(df.info())\n",
    "print('\\n\\n')\n",
    "df.head()"
   ]
  },
  {
   "cell_type": "code",
   "execution_count": 7,
   "id": "thorough-cholesterol",
   "metadata": {
    "execution": {
     "iopub.execute_input": "2021-06-07T12:36:51.975458Z",
     "iopub.status.busy": "2021-06-07T12:36:51.974758Z",
     "iopub.status.idle": "2021-06-07T12:36:51.981045Z",
     "shell.execute_reply": "2021-06-07T12:36:51.979975Z",
     "shell.execute_reply.started": "2021-06-07T12:34:00.020253Z"
    },
    "id": "gqS5a8zM0Gki",
    "outputId": "c820b888-bd47-41a9-e967-97dc78711b76",
    "papermill": {
     "duration": 0.046114,
     "end_time": "2021-06-07T12:36:51.981340",
     "exception": false,
     "start_time": "2021-06-07T12:36:51.935226",
     "status": "completed"
    },
    "tags": []
   },
   "outputs": [
    {
     "name": "stdout",
     "output_type": "stream",
     "text": [
      "Total number of users are 610\n"
     ]
    }
   ],
   "source": [
    "print('Total number of users are {}'.format(df['userId'].nunique()))"
   ]
  },
  {
   "cell_type": "code",
   "execution_count": 8,
   "id": "instrumental-farming",
   "metadata": {
    "execution": {
     "iopub.execute_input": "2021-06-07T12:36:52.067679Z",
     "iopub.status.busy": "2021-06-07T12:36:52.066988Z",
     "iopub.status.idle": "2021-06-07T12:36:52.084393Z",
     "shell.execute_reply": "2021-06-07T12:36:52.083821Z",
     "shell.execute_reply.started": "2021-06-07T12:34:00.030447Z"
    },
    "id": "dyckxINV0WPw",
    "outputId": "461b48e3-9129-490e-b048-351561d8f25d",
    "papermill": {
     "duration": 0.066521,
     "end_time": "2021-06-07T12:36:52.084534",
     "exception": false,
     "start_time": "2021-06-07T12:36:52.018013",
     "status": "completed"
    },
    "tags": []
   },
   "outputs": [
    {
     "name": "stdout",
     "output_type": "stream",
     "text": [
      "Total number of movies are 9719\n"
     ]
    }
   ],
   "source": [
    "print('Total number of movies are {}'.format(df['title'].nunique()))"
   ]
  },
  {
   "cell_type": "code",
   "execution_count": 9,
   "id": "engaged-tourist",
   "metadata": {
    "execution": {
     "iopub.execute_input": "2021-06-07T12:36:52.169157Z",
     "iopub.status.busy": "2021-06-07T12:36:52.168432Z",
     "iopub.status.idle": "2021-06-07T12:36:52.206352Z",
     "shell.execute_reply": "2021-06-07T12:36:52.205749Z",
     "shell.execute_reply.started": "2021-06-07T12:34:00.065804Z"
    },
    "id": "Q9N3xiEQ2oKy",
    "outputId": "e1f79731-592b-437b-d1d8-5ae69fa8a2f2",
    "papermill": {
     "duration": 0.086749,
     "end_time": "2021-06-07T12:36:52.206503",
     "exception": false,
     "start_time": "2021-06-07T12:36:52.119754",
     "status": "completed"
    },
    "tags": []
   },
   "outputs": [
    {
     "name": "stdout",
     "output_type": "stream",
     "text": [
      "Total number of unique genres are 951\n",
      "\n",
      "Top genres are \n",
      "\n",
      " Comedy                  7196\n",
      "Drama                   6291\n",
      "Comedy|Romance          3967\n",
      "Comedy|Drama|Romance    3000\n",
      "Comedy|Drama            2851\n",
      "Name: genres, dtype: int64\n"
     ]
    }
   ],
   "source": [
    "print('Total number of unique genres are {}\\n'.format(df['genres'].nunique()))\n",
    "print('Top genres are \\n\\n',df['genres'].value_counts().head())"
   ]
  },
  {
   "cell_type": "code",
   "execution_count": 10,
   "id": "assumed-centre",
   "metadata": {
    "execution": {
     "iopub.execute_input": "2021-06-07T12:36:52.283478Z",
     "iopub.status.busy": "2021-06-07T12:36:52.282764Z",
     "iopub.status.idle": "2021-06-07T12:36:52.331714Z",
     "shell.execute_reply": "2021-06-07T12:36:52.330591Z",
     "shell.execute_reply.started": "2021-06-07T12:34:00.104202Z"
    },
    "id": "6p55S9Ni3HyM",
    "outputId": "35a2a292-6c60-4500-e704-7f97bb6fc3ff",
    "papermill": {
     "duration": 0.089453,
     "end_time": "2021-06-07T12:36:52.331879",
     "exception": false,
     "start_time": "2021-06-07T12:36:52.242426",
     "status": "completed"
    },
    "tags": []
   },
   "outputs": [
    {
     "data": {
      "text/plain": [
       "title\n",
       "Gena the Crocodile (1969)                  5.0\n",
       "True Stories (1986)                        5.0\n",
       "Cosmic Scrat-tastrophe (2015)              5.0\n",
       "Love and Pigeons (1985)                    5.0\n",
       "Red Sorghum (Hong gao liang) (1987)        5.0\n",
       "                                          ... \n",
       "Don't Look Now (1973)                      0.5\n",
       "Journey 2: The Mysterious Island (2012)    0.5\n",
       "Joe Dirt 2: Beautiful Loser (2015)         0.5\n",
       "Jesus Christ Vampire Hunter (2001)         0.5\n",
       "Fullmetal Alchemist 2018 (2017)            0.5\n",
       "Name: rating, Length: 9719, dtype: float64"
      ]
     },
     "execution_count": 10,
     "metadata": {},
     "output_type": "execute_result"
    }
   ],
   "source": [
    "# Titles with most and least ratings.\n",
    "\n",
    "rat_avg = df.groupby('title').mean()['rating'].sort_values(ascending=False)\n",
    "rat_avg"
   ]
  },
  {
   "cell_type": "code",
   "execution_count": 11,
   "id": "radical-lighting",
   "metadata": {
    "execution": {
     "iopub.execute_input": "2021-06-07T12:36:52.412780Z",
     "iopub.status.busy": "2021-06-07T12:36:52.409883Z",
     "iopub.status.idle": "2021-06-07T12:36:52.467622Z",
     "shell.execute_reply": "2021-06-07T12:36:52.467012Z",
     "shell.execute_reply.started": "2021-06-07T12:34:00.155245Z"
    },
    "id": "ICjyegm59taO",
    "outputId": "ea25c4f9-3a90-4bc7-fb23-87c826584b84",
    "papermill": {
     "duration": 0.100087,
     "end_time": "2021-06-07T12:36:52.467804",
     "exception": false,
     "start_time": "2021-06-07T12:36:52.367717",
     "status": "completed"
    },
    "tags": []
   },
   "outputs": [
    {
     "data": {
      "text/plain": [
       "title\n",
       "Forrest Gump (1994)                          329\n",
       "Shawshank Redemption, The (1994)             317\n",
       "Pulp Fiction (1994)                          307\n",
       "Silence of the Lambs, The (1991)             279\n",
       "Matrix, The (1999)                           278\n",
       "                                            ... \n",
       "King Solomon's Mines (1950)                    1\n",
       "King Solomon's Mines (1937)                    1\n",
       "King Ralph (1991)                              1\n",
       "King Kong Lives (1986)                         1\n",
       "À nous la liberté (Freedom for Us) (1931)      1\n",
       "Name: rating, Length: 9719, dtype: int64"
      ]
     },
     "execution_count": 11,
     "metadata": {},
     "output_type": "execute_result"
    }
   ],
   "source": [
    "# Titles with most and least number of ratings.\n",
    "\n",
    "rat_count = df.groupby('title').count()['rating']\n",
    "rat_count.sort_values(ascending=False)"
   ]
  },
  {
   "cell_type": "code",
   "execution_count": 12,
   "id": "detailed-divorce",
   "metadata": {
    "execution": {
     "iopub.execute_input": "2021-06-07T12:36:52.574641Z",
     "iopub.status.busy": "2021-06-07T12:36:52.573560Z",
     "iopub.status.idle": "2021-06-07T12:36:52.577912Z",
     "shell.execute_reply": "2021-06-07T12:36:52.577374Z",
     "shell.execute_reply.started": "2021-06-07T12:34:00.203574Z"
    },
    "id": "PuqrXmVzGN91",
    "outputId": "42a0eed3-32e1-4d8b-fc21-22b350e0cdff",
    "papermill": {
     "duration": 0.059293,
     "end_time": "2021-06-07T12:36:52.578048",
     "exception": false,
     "start_time": "2021-06-07T12:36:52.518755",
     "status": "completed"
    },
    "tags": []
   },
   "outputs": [
    {
     "data": {
      "text/html": [
       "<div>\n",
       "<style scoped>\n",
       "    .dataframe tbody tr th:only-of-type {\n",
       "        vertical-align: middle;\n",
       "    }\n",
       "\n",
       "    .dataframe tbody tr th {\n",
       "        vertical-align: top;\n",
       "    }\n",
       "\n",
       "    .dataframe thead th {\n",
       "        text-align: right;\n",
       "    }\n",
       "</style>\n",
       "<table border=\"1\" class=\"dataframe\">\n",
       "  <thead>\n",
       "    <tr style=\"text-align: right;\">\n",
       "      <th></th>\n",
       "      <th>rating</th>\n",
       "      <th>no_of_ratings</th>\n",
       "    </tr>\n",
       "    <tr>\n",
       "      <th>title</th>\n",
       "      <th></th>\n",
       "      <th></th>\n",
       "    </tr>\n",
       "  </thead>\n",
       "  <tbody>\n",
       "    <tr>\n",
       "      <th>Gena the Crocodile (1969)</th>\n",
       "      <td>5.0</td>\n",
       "      <td>1</td>\n",
       "    </tr>\n",
       "    <tr>\n",
       "      <th>True Stories (1986)</th>\n",
       "      <td>5.0</td>\n",
       "      <td>1</td>\n",
       "    </tr>\n",
       "    <tr>\n",
       "      <th>Cosmic Scrat-tastrophe (2015)</th>\n",
       "      <td>5.0</td>\n",
       "      <td>1</td>\n",
       "    </tr>\n",
       "    <tr>\n",
       "      <th>Love and Pigeons (1985)</th>\n",
       "      <td>5.0</td>\n",
       "      <td>1</td>\n",
       "    </tr>\n",
       "    <tr>\n",
       "      <th>Red Sorghum (Hong gao liang) (1987)</th>\n",
       "      <td>5.0</td>\n",
       "      <td>1</td>\n",
       "    </tr>\n",
       "    <tr>\n",
       "      <th>...</th>\n",
       "      <td>...</td>\n",
       "      <td>...</td>\n",
       "    </tr>\n",
       "    <tr>\n",
       "      <th>Don't Look Now (1973)</th>\n",
       "      <td>0.5</td>\n",
       "      <td>1</td>\n",
       "    </tr>\n",
       "    <tr>\n",
       "      <th>Journey 2: The Mysterious Island (2012)</th>\n",
       "      <td>0.5</td>\n",
       "      <td>1</td>\n",
       "    </tr>\n",
       "    <tr>\n",
       "      <th>Joe Dirt 2: Beautiful Loser (2015)</th>\n",
       "      <td>0.5</td>\n",
       "      <td>1</td>\n",
       "    </tr>\n",
       "    <tr>\n",
       "      <th>Jesus Christ Vampire Hunter (2001)</th>\n",
       "      <td>0.5</td>\n",
       "      <td>1</td>\n",
       "    </tr>\n",
       "    <tr>\n",
       "      <th>Fullmetal Alchemist 2018 (2017)</th>\n",
       "      <td>0.5</td>\n",
       "      <td>1</td>\n",
       "    </tr>\n",
       "  </tbody>\n",
       "</table>\n",
       "<p>9719 rows × 2 columns</p>\n",
       "</div>"
      ],
      "text/plain": [
       "                                         rating  no_of_ratings\n",
       "title                                                         \n",
       "Gena the Crocodile (1969)                   5.0              1\n",
       "True Stories (1986)                         5.0              1\n",
       "Cosmic Scrat-tastrophe (2015)               5.0              1\n",
       "Love and Pigeons (1985)                     5.0              1\n",
       "Red Sorghum (Hong gao liang) (1987)         5.0              1\n",
       "...                                         ...            ...\n",
       "Don't Look Now (1973)                       0.5              1\n",
       "Journey 2: The Mysterious Island (2012)     0.5              1\n",
       "Joe Dirt 2: Beautiful Loser (2015)          0.5              1\n",
       "Jesus Christ Vampire Hunter (2001)          0.5              1\n",
       "Fullmetal Alchemist 2018 (2017)             0.5              1\n",
       "\n",
       "[9719 rows x 2 columns]"
      ]
     },
     "execution_count": 12,
     "metadata": {},
     "output_type": "execute_result"
    }
   ],
   "source": [
    "# Creating a DataFrame using above findings, i.e Average ratings and number of users rated for the movie.\n",
    "\n",
    "df_rate = pd.DataFrame(rat_avg)\n",
    "df_rate['no_of_ratings'] = pd.DataFrame(rat_count)\n",
    "df_rate"
   ]
  },
  {
   "cell_type": "markdown",
   "id": "naughty-official",
   "metadata": {
    "id": "m08BRAsdizfK",
    "papermill": {
     "duration": 0.036634,
     "end_time": "2021-06-07T12:36:52.651523",
     "exception": false,
     "start_time": "2021-06-07T12:36:52.614889",
     "status": "completed"
    },
    "tags": []
   },
   "source": [
    "## Number of Ratings"
   ]
  },
  {
   "cell_type": "code",
   "execution_count": 13,
   "id": "established-shaft",
   "metadata": {
    "execution": {
     "iopub.execute_input": "2021-06-07T12:36:52.728237Z",
     "iopub.status.busy": "2021-06-07T12:36:52.727521Z",
     "iopub.status.idle": "2021-06-07T12:36:53.108642Z",
     "shell.execute_reply": "2021-06-07T12:36:53.108143Z",
     "shell.execute_reply.started": "2021-06-07T12:34:00.226122Z"
    },
    "id": "1T6ECl_DYEIz",
    "outputId": "51e48e72-8c4c-4eee-f80e-1f9cccd3a5db",
    "papermill": {
     "duration": 0.420549,
     "end_time": "2021-06-07T12:36:53.108779",
     "exception": false,
     "start_time": "2021-06-07T12:36:52.688230",
     "status": "completed"
    },
    "tags": []
   },
   "outputs": [
    {
     "name": "stdout",
     "output_type": "stream",
     "text": [
      "title\n",
      "Forrest Gump (1994)                  329\n",
      "Shawshank Redemption, The (1994)     317\n",
      "Pulp Fiction (1994)                  307\n",
      "Silence of the Lambs, The (1991)     279\n",
      "Matrix, The (1999)                   278\n",
      "                                    ... \n",
      "Suspect Zero (2004)                    1\n",
      "Signal, The (2007)                     1\n",
      "Silent Night, Deadly Night (1984)      1\n",
      "Silent Movie (1976)                    1\n",
      "Fullmetal Alchemist 2018 (2017)        1\n",
      "Name: no_of_ratings, Length: 9719, dtype: int64\n",
      "\n",
      "\n"
     ]
    },
    {
     "data": {
      "text/plain": [
       "<AxesSubplot:>"
      ]
     },
     "execution_count": 13,
     "metadata": {},
     "output_type": "execute_result"
    },
    {
     "data": {
      "image/png": "[encoded data removed]",
      "text/plain": [
       "<Figure size 1080x720 with 1 Axes>"
      ]
     },
     "metadata": {},
     "output_type": "display_data"
    }
   ],
   "source": [
    "# Plotting number of ratings(x) vs count of titles with that exact number of ratings(y)\n",
    "\n",
    "print(df_rate['no_of_ratings'].sort_values(ascending=False))\n",
    "print('\\n')\n",
    "\n",
    "plt.figure(figsize=(15,10))\n",
    "df_rate['no_of_ratings'].sort_values(ascending=False).hist(bins=60)\n",
    "\n",
    "# Here all records are considered (9719) and \n",
    "# due to lot of titles with less number of ratings(ex:1) graph is not clear"
   ]
  },
  {
   "cell_type": "markdown",
   "id": "assured-montgomery",
   "metadata": {
    "id": "lXOU6-aqa2lj",
    "papermill": {
     "duration": 0.037643,
     "end_time": "2021-06-07T12:36:53.184169",
     "exception": false,
     "start_time": "2021-06-07T12:36:53.146526",
     "status": "completed"
    },
    "tags": []
   },
   "source": [
    "Hence plotting two graphs\n",
    "-  Titles with 10+ ratings and more\n",
    "-  Titles with less than 10 ratings"
   ]
  },
  {
   "cell_type": "code",
   "execution_count": 14,
   "id": "skilled-james",
   "metadata": {
    "execution": {
     "iopub.execute_input": "2021-06-07T12:36:53.265612Z",
     "iopub.status.busy": "2021-06-07T12:36:53.264895Z",
     "iopub.status.idle": "2021-06-07T12:36:53.619533Z",
     "shell.execute_reply": "2021-06-07T12:36:53.618938Z",
     "shell.execute_reply.started": "2021-06-07T12:34:00.620023Z"
    },
    "id": "3lyh5ZkGCmgP",
    "outputId": "51434228-dcd9-4538-81db-6aeb729eb534",
    "papermill": {
     "duration": 0.397865,
     "end_time": "2021-06-07T12:36:53.619673",
     "exception": false,
     "start_time": "2021-06-07T12:36:53.221808",
     "status": "completed"
    },
    "tags": []
   },
   "outputs": [
    {
     "name": "stdout",
     "output_type": "stream",
     "text": [
      "title\n",
      "Forrest Gump (1994)                                329\n",
      "Shawshank Redemption, The (1994)                   317\n",
      "Pulp Fiction (1994)                                307\n",
      "Silence of the Lambs, The (1991)                   279\n",
      "Matrix, The (1999)                                 278\n",
      "                                                  ... \n",
      "Medicine Man (1992)                                 11\n",
      "Wild Bunch, The (1969)                              11\n",
      "Cook the Thief His Wife & Her Lover, The (1989)     11\n",
      "Jean de Florette (1986)                             11\n",
      "Kick-Ass 2 (2013)                                   11\n",
      "Name: no_of_ratings, Length: 2100, dtype: int64\n",
      "\n",
      "\n"
     ]
    },
    {
     "data": {
      "text/plain": [
       "<AxesSubplot:>"
      ]
     },
     "execution_count": 14,
     "metadata": {},
     "output_type": "execute_result"
    },
    {
     "data": {
      "image/png": "[encoded data removed]",
      "text/plain": [
       "<Figure size 1080x720 with 1 Axes>"
      ]
     },
     "metadata": {},
     "output_type": "display_data"
    }
   ],
   "source": [
    "# Titles with 10+ ratings and more\n",
    "# Number of ratings for a title is sorted in descending order\n",
    "# Top 2121 rows contains records with 10+ ratings upto 329 ratings\n",
    "\n",
    "print(df_rate['no_of_ratings'].sort_values(ascending=False)[:2100])\n",
    "print('\\n')\n",
    "\n",
    "plt.figure(figsize=(15,10))\n",
    "df_rate['no_of_ratings'].sort_values(ascending=False)[:2121].hist(bins=80)"
   ]
  },
  {
   "cell_type": "code",
   "execution_count": 15,
   "id": "reserved-pottery",
   "metadata": {
    "execution": {
     "iopub.execute_input": "2021-06-07T12:36:53.704627Z",
     "iopub.status.busy": "2021-06-07T12:36:53.703744Z",
     "iopub.status.idle": "2021-06-07T12:36:54.062223Z",
     "shell.execute_reply": "2021-06-07T12:36:54.061658Z",
     "shell.execute_reply.started": "2021-06-07T12:34:00.933548Z"
    },
    "id": "xtsxp38EEEmj",
    "outputId": "362c2097-6bb2-4232-b25e-7a8c475717a2",
    "papermill": {
     "duration": 0.403388,
     "end_time": "2021-06-07T12:36:54.062372",
     "exception": false,
     "start_time": "2021-06-07T12:36:53.658984",
     "status": "completed"
    },
    "tags": []
   },
   "outputs": [
    {
     "name": "stdout",
     "output_type": "stream",
     "text": [
      "title\n",
      "Spice World (1997)                     10\n",
      "Futurama: Bender's Big Score (2007)    10\n",
      "One Fine Day (1996)                    10\n",
      "Semi-Pro (2008)                        10\n",
      "Hate (Haine, La) (1995)                10\n",
      "                                       ..\n",
      "Suspect Zero (2004)                     1\n",
      "Signal, The (2007)                      1\n",
      "Silent Night, Deadly Night (1984)       1\n",
      "Silent Movie (1976)                     1\n",
      "Fullmetal Alchemist 2018 (2017)         1\n",
      "Name: no_of_ratings, Length: 7598, dtype: int64\n",
      "\n",
      "\n"
     ]
    },
    {
     "data": {
      "text/plain": [
       "<AxesSubplot:>"
      ]
     },
     "execution_count": 15,
     "metadata": {},
     "output_type": "execute_result"
    },
    {
     "data": {
      "image/png": "[encoded data removed]",
      "text/plain": [
       "<Figure size 1080x720 with 1 Axes>"
      ]
     },
     "metadata": {},
     "output_type": "display_data"
    }
   ],
   "source": [
    "# Titles with less than or equal to 10 ratings\n",
    "# Number of ratings for a title is sorted in descending order\n",
    "# Exculding Top 2121 rows from 9719 total sorted titles; \n",
    "# 7598 records with less than or equal to 10 no. of ratings.\n",
    "\n",
    "print(df_rate['no_of_ratings'].sort_values(ascending=False)[2121:])\n",
    "print('\\n')\n",
    "\n",
    "plt.figure(figsize=(15,10))\n",
    "df_rate['no_of_ratings'].sort_values(ascending=False)[2121:].hist(bins=80)"
   ]
  },
  {
   "cell_type": "markdown",
   "id": "enhanced-annotation",
   "metadata": {
    "id": "hEas5CERjFEk",
    "papermill": {
     "duration": 0.040873,
     "end_time": "2021-06-07T12:36:54.143896",
     "exception": false,
     "start_time": "2021-06-07T12:36:54.103023",
     "status": "completed"
    },
    "tags": []
   },
   "source": [
    "## Average Rating"
   ]
  },
  {
   "cell_type": "code",
   "execution_count": 16,
   "id": "operational-peace",
   "metadata": {
    "execution": {
     "iopub.execute_input": "2021-06-07T12:36:54.249978Z",
     "iopub.status.busy": "2021-06-07T12:36:54.245725Z",
     "iopub.status.idle": "2021-06-07T12:36:54.563540Z",
     "shell.execute_reply": "2021-06-07T12:36:54.562941Z",
     "shell.execute_reply.started": "2021-06-07T12:34:01.253179Z"
    },
    "id": "eZ8-pkDP-Fpa",
    "outputId": "a73c6f46-5e09-47e3-f6cd-fea014f7af21",
    "papermill": {
     "duration": 0.379087,
     "end_time": "2021-06-07T12:36:54.563683",
     "exception": false,
     "start_time": "2021-06-07T12:36:54.184596",
     "status": "completed"
    },
    "tags": []
   },
   "outputs": [
    {
     "data": {
      "text/plain": [
       "<AxesSubplot:>"
      ]
     },
     "execution_count": 16,
     "metadata": {},
     "output_type": "execute_result"
    },
    {
     "data": {
      "image/png": "[encoded data removed]",
      "text/plain": [
       "<Figure size 1080x576 with 1 Axes>"
      ]
     },
     "metadata": {},
     "output_type": "display_data"
    }
   ],
   "source": [
    "# Average rating of titles (x) vs count(y)\n",
    "\n",
    "df_rate['rating'].hist(bins=80)"
   ]
  },
  {
   "cell_type": "markdown",
   "id": "special-finance",
   "metadata": {
    "id": "ElVICeMZuShO",
    "papermill": {
     "duration": 0.042289,
     "end_time": "2021-06-07T12:36:54.647331",
     "exception": false,
     "start_time": "2021-06-07T12:36:54.605042",
     "status": "completed"
    },
    "tags": []
   },
   "source": [
    "## Number of Ratings vs Average Ratings"
   ]
  },
  {
   "cell_type": "code",
   "execution_count": 17,
   "id": "adaptive-commander",
   "metadata": {
    "execution": {
     "iopub.execute_input": "2021-06-07T12:36:54.740264Z",
     "iopub.status.busy": "2021-06-07T12:36:54.739545Z",
     "iopub.status.idle": "2021-06-07T12:36:56.269013Z",
     "shell.execute_reply": "2021-06-07T12:36:56.269524Z",
     "shell.execute_reply.started": "2021-06-07T12:34:01.554843Z"
    },
    "id": "KbOnp5dLOuBY",
    "outputId": "a90e2873-f4b1-40db-ee86-26c315e2772c",
    "papermill": {
     "duration": 1.578188,
     "end_time": "2021-06-07T12:36:56.269691",
     "exception": false,
     "start_time": "2021-06-07T12:36:54.691503",
     "status": "completed"
    },
    "tags": []
   },
   "outputs": [
    {
     "name": "stderr",
     "output_type": "stream",
     "text": [
      "/opt/conda/lib/python3.7/site-packages/seaborn/_decorators.py:43: FutureWarning: Pass the following variables as keyword args: x, y. From version 0.12, the only valid positional argument will be `data`, and passing other arguments without an explicit keyword will result in an error or misinterpretation.\n",
      "  FutureWarning\n"
     ]
    },
    {
     "data": {
      "text/plain": [
       "<seaborn.axisgrid.JointGrid at 0x7f9eb5435f10>"
      ]
     },
     "execution_count": 17,
     "metadata": {},
     "output_type": "execute_result"
    },
    {
     "data": {
      "image/png": "[encoded data removed]",
      "text/plain": [
       "<Figure size 432x432 with 3 Axes>"
      ]
     },
     "metadata": {},
     "output_type": "display_data"
    }
   ],
   "source": [
    "# Relation between average ratings(x) vs no. of ratings(y)\n",
    "\n",
    "sns.jointplot(df_rate['rating'], df_rate['no_of_ratings'],alpha=0.6, kind='scatter')\n",
    "\n",
    "# Movies with less number of ratings tends to have lower ratings. \n",
    "# Similarly more the number of ratings, better the ratings are."
   ]
  },
  {
   "cell_type": "markdown",
   "id": "engaged-soldier",
   "metadata": {
    "id": "SgU__enCPEPk",
    "papermill": {
     "duration": 0.044263,
     "end_time": "2021-06-07T12:36:56.358116",
     "exception": false,
     "start_time": "2021-06-07T12:36:56.313853",
     "status": "completed"
    },
    "tags": []
   },
   "source": [
    "# Building a System "
   ]
  },
  {
   "cell_type": "code",
   "execution_count": 18,
   "id": "young-beaver",
   "metadata": {
    "execution": {
     "iopub.execute_input": "2021-06-07T12:36:56.459900Z",
     "iopub.status.busy": "2021-06-07T12:36:56.458870Z",
     "iopub.status.idle": "2021-06-07T12:36:56.725141Z",
     "shell.execute_reply": "2021-06-07T12:36:56.724598Z",
     "shell.execute_reply.started": "2021-06-07T12:34:02.902246Z"
    },
    "id": "za3ICRQ1PIT2",
    "outputId": "ac471d53-d8c4-402c-f287-3c5ba431fbdc",
    "papermill": {
     "duration": 0.32295,
     "end_time": "2021-06-07T12:36:56.725299",
     "exception": false,
     "start_time": "2021-06-07T12:36:56.402349",
     "status": "completed"
    },
    "tags": []
   },
   "outputs": [
    {
     "data": {
      "text/html": [
       "<div>\n",
       "<style scoped>\n",
       "    .dataframe tbody tr th:only-of-type {\n",
       "        vertical-align: middle;\n",
       "    }\n",
       "\n",
       "    .dataframe tbody tr th {\n",
       "        vertical-align: top;\n",
       "    }\n",
       "\n",
       "    .dataframe thead th {\n",
       "        text-align: right;\n",
       "    }\n",
       "</style>\n",
       "<table border=\"1\" class=\"dataframe\">\n",
       "  <thead>\n",
       "    <tr style=\"text-align: right;\">\n",
       "      <th>title</th>\n",
       "      <th>'71 (2014)</th>\n",
       "      <th>'Hellboy': The Seeds of Creation (2004)</th>\n",
       "      <th>'Round Midnight (1986)</th>\n",
       "      <th>'Salem's Lot (2004)</th>\n",
       "      <th>'Til There Was You (1997)</th>\n",
       "      <th>'Tis the Season for Love (2015)</th>\n",
       "      <th>'burbs, The (1989)</th>\n",
       "      <th>'night Mother (1986)</th>\n",
       "      <th>(500) Days of Summer (2009)</th>\n",
       "      <th>*batteries not included (1987)</th>\n",
       "      <th>...</th>\n",
       "      <th>Zulu (2013)</th>\n",
       "      <th>[REC] (2007)</th>\n",
       "      <th>[REC]² (2009)</th>\n",
       "      <th>[REC]³ 3 Génesis (2012)</th>\n",
       "      <th>anohana: The Flower We Saw That Day - The Movie (2013)</th>\n",
       "      <th>eXistenZ (1999)</th>\n",
       "      <th>xXx (2002)</th>\n",
       "      <th>xXx: State of the Union (2005)</th>\n",
       "      <th>¡Three Amigos! (1986)</th>\n",
       "      <th>À nous la liberté (Freedom for Us) (1931)</th>\n",
       "    </tr>\n",
       "    <tr>\n",
       "      <th>userId</th>\n",
       "      <th></th>\n",
       "      <th></th>\n",
       "      <th></th>\n",
       "      <th></th>\n",
       "      <th></th>\n",
       "      <th></th>\n",
       "      <th></th>\n",
       "      <th></th>\n",
       "      <th></th>\n",
       "      <th></th>\n",
       "      <th></th>\n",
       "      <th></th>\n",
       "      <th></th>\n",
       "      <th></th>\n",
       "      <th></th>\n",
       "      <th></th>\n",
       "      <th></th>\n",
       "      <th></th>\n",
       "      <th></th>\n",
       "      <th></th>\n",
       "      <th></th>\n",
       "    </tr>\n",
       "  </thead>\n",
       "  <tbody>\n",
       "    <tr>\n",
       "      <th>1</th>\n",
       "      <td>NaN</td>\n",
       "      <td>NaN</td>\n",
       "      <td>NaN</td>\n",
       "      <td>NaN</td>\n",
       "      <td>NaN</td>\n",
       "      <td>NaN</td>\n",
       "      <td>NaN</td>\n",
       "      <td>NaN</td>\n",
       "      <td>NaN</td>\n",
       "      <td>NaN</td>\n",
       "      <td>...</td>\n",
       "      <td>NaN</td>\n",
       "      <td>NaN</td>\n",
       "      <td>NaN</td>\n",
       "      <td>NaN</td>\n",
       "      <td>NaN</td>\n",
       "      <td>NaN</td>\n",
       "      <td>NaN</td>\n",
       "      <td>NaN</td>\n",
       "      <td>4.0</td>\n",
       "      <td>NaN</td>\n",
       "    </tr>\n",
       "    <tr>\n",
       "      <th>2</th>\n",
       "      <td>NaN</td>\n",
       "      <td>NaN</td>\n",
       "      <td>NaN</td>\n",
       "      <td>NaN</td>\n",
       "      <td>NaN</td>\n",
       "      <td>NaN</td>\n",
       "      <td>NaN</td>\n",
       "      <td>NaN</td>\n",
       "      <td>NaN</td>\n",
       "      <td>NaN</td>\n",
       "      <td>...</td>\n",
       "      <td>NaN</td>\n",
       "      <td>NaN</td>\n",
       "      <td>NaN</td>\n",
       "      <td>NaN</td>\n",
       "      <td>NaN</td>\n",
       "      <td>NaN</td>\n",
       "      <td>NaN</td>\n",
       "      <td>NaN</td>\n",
       "      <td>NaN</td>\n",
       "      <td>NaN</td>\n",
       "    </tr>\n",
       "    <tr>\n",
       "      <th>3</th>\n",
       "      <td>NaN</td>\n",
       "      <td>NaN</td>\n",
       "      <td>NaN</td>\n",
       "      <td>NaN</td>\n",
       "      <td>NaN</td>\n",
       "      <td>NaN</td>\n",
       "      <td>NaN</td>\n",
       "      <td>NaN</td>\n",
       "      <td>NaN</td>\n",
       "      <td>NaN</td>\n",
       "      <td>...</td>\n",
       "      <td>NaN</td>\n",
       "      <td>NaN</td>\n",
       "      <td>NaN</td>\n",
       "      <td>NaN</td>\n",
       "      <td>NaN</td>\n",
       "      <td>NaN</td>\n",
       "      <td>NaN</td>\n",
       "      <td>NaN</td>\n",
       "      <td>NaN</td>\n",
       "      <td>NaN</td>\n",
       "    </tr>\n",
       "    <tr>\n",
       "      <th>4</th>\n",
       "      <td>NaN</td>\n",
       "      <td>NaN</td>\n",
       "      <td>NaN</td>\n",
       "      <td>NaN</td>\n",
       "      <td>NaN</td>\n",
       "      <td>NaN</td>\n",
       "      <td>NaN</td>\n",
       "      <td>NaN</td>\n",
       "      <td>NaN</td>\n",
       "      <td>NaN</td>\n",
       "      <td>...</td>\n",
       "      <td>NaN</td>\n",
       "      <td>NaN</td>\n",
       "      <td>NaN</td>\n",
       "      <td>NaN</td>\n",
       "      <td>NaN</td>\n",
       "      <td>NaN</td>\n",
       "      <td>NaN</td>\n",
       "      <td>NaN</td>\n",
       "      <td>NaN</td>\n",
       "      <td>NaN</td>\n",
       "    </tr>\n",
       "    <tr>\n",
       "      <th>5</th>\n",
       "      <td>NaN</td>\n",
       "      <td>NaN</td>\n",
       "      <td>NaN</td>\n",
       "      <td>NaN</td>\n",
       "      <td>NaN</td>\n",
       "      <td>NaN</td>\n",
       "      <td>NaN</td>\n",
       "      <td>NaN</td>\n",
       "      <td>NaN</td>\n",
       "      <td>NaN</td>\n",
       "      <td>...</td>\n",
       "      <td>NaN</td>\n",
       "      <td>NaN</td>\n",
       "      <td>NaN</td>\n",
       "      <td>NaN</td>\n",
       "      <td>NaN</td>\n",
       "      <td>NaN</td>\n",
       "      <td>NaN</td>\n",
       "      <td>NaN</td>\n",
       "      <td>NaN</td>\n",
       "      <td>NaN</td>\n",
       "    </tr>\n",
       "    <tr>\n",
       "      <th>...</th>\n",
       "      <td>...</td>\n",
       "      <td>...</td>\n",
       "      <td>...</td>\n",
       "      <td>...</td>\n",
       "      <td>...</td>\n",
       "      <td>...</td>\n",
       "      <td>...</td>\n",
       "      <td>...</td>\n",
       "      <td>...</td>\n",
       "      <td>...</td>\n",
       "      <td>...</td>\n",
       "      <td>...</td>\n",
       "      <td>...</td>\n",
       "      <td>...</td>\n",
       "      <td>...</td>\n",
       "      <td>...</td>\n",
       "      <td>...</td>\n",
       "      <td>...</td>\n",
       "      <td>...</td>\n",
       "      <td>...</td>\n",
       "      <td>...</td>\n",
       "    </tr>\n",
       "    <tr>\n",
       "      <th>606</th>\n",
       "      <td>NaN</td>\n",
       "      <td>NaN</td>\n",
       "      <td>NaN</td>\n",
       "      <td>NaN</td>\n",
       "      <td>NaN</td>\n",
       "      <td>NaN</td>\n",
       "      <td>NaN</td>\n",
       "      <td>NaN</td>\n",
       "      <td>NaN</td>\n",
       "      <td>NaN</td>\n",
       "      <td>...</td>\n",
       "      <td>NaN</td>\n",
       "      <td>NaN</td>\n",
       "      <td>NaN</td>\n",
       "      <td>NaN</td>\n",
       "      <td>NaN</td>\n",
       "      <td>NaN</td>\n",
       "      <td>NaN</td>\n",
       "      <td>NaN</td>\n",
       "      <td>NaN</td>\n",
       "      <td>NaN</td>\n",
       "    </tr>\n",
       "    <tr>\n",
       "      <th>607</th>\n",
       "      <td>NaN</td>\n",
       "      <td>NaN</td>\n",
       "      <td>NaN</td>\n",
       "      <td>NaN</td>\n",
       "      <td>NaN</td>\n",
       "      <td>NaN</td>\n",
       "      <td>NaN</td>\n",
       "      <td>NaN</td>\n",
       "      <td>NaN</td>\n",
       "      <td>NaN</td>\n",
       "      <td>...</td>\n",
       "      <td>NaN</td>\n",
       "      <td>NaN</td>\n",
       "      <td>NaN</td>\n",
       "      <td>NaN</td>\n",
       "      <td>NaN</td>\n",
       "      <td>NaN</td>\n",
       "      <td>NaN</td>\n",
       "      <td>NaN</td>\n",
       "      <td>NaN</td>\n",
       "      <td>NaN</td>\n",
       "    </tr>\n",
       "    <tr>\n",
       "      <th>608</th>\n",
       "      <td>NaN</td>\n",
       "      <td>NaN</td>\n",
       "      <td>NaN</td>\n",
       "      <td>NaN</td>\n",
       "      <td>NaN</td>\n",
       "      <td>NaN</td>\n",
       "      <td>NaN</td>\n",
       "      <td>NaN</td>\n",
       "      <td>NaN</td>\n",
       "      <td>NaN</td>\n",
       "      <td>...</td>\n",
       "      <td>NaN</td>\n",
       "      <td>NaN</td>\n",
       "      <td>NaN</td>\n",
       "      <td>NaN</td>\n",
       "      <td>NaN</td>\n",
       "      <td>4.5</td>\n",
       "      <td>3.5</td>\n",
       "      <td>NaN</td>\n",
       "      <td>NaN</td>\n",
       "      <td>NaN</td>\n",
       "    </tr>\n",
       "    <tr>\n",
       "      <th>609</th>\n",
       "      <td>NaN</td>\n",
       "      <td>NaN</td>\n",
       "      <td>NaN</td>\n",
       "      <td>NaN</td>\n",
       "      <td>NaN</td>\n",
       "      <td>NaN</td>\n",
       "      <td>NaN</td>\n",
       "      <td>NaN</td>\n",
       "      <td>NaN</td>\n",
       "      <td>NaN</td>\n",
       "      <td>...</td>\n",
       "      <td>NaN</td>\n",
       "      <td>NaN</td>\n",
       "      <td>NaN</td>\n",
       "      <td>NaN</td>\n",
       "      <td>NaN</td>\n",
       "      <td>NaN</td>\n",
       "      <td>NaN</td>\n",
       "      <td>NaN</td>\n",
       "      <td>NaN</td>\n",
       "      <td>NaN</td>\n",
       "    </tr>\n",
       "    <tr>\n",
       "      <th>610</th>\n",
       "      <td>4.0</td>\n",
       "      <td>NaN</td>\n",
       "      <td>NaN</td>\n",
       "      <td>NaN</td>\n",
       "      <td>NaN</td>\n",
       "      <td>NaN</td>\n",
       "      <td>NaN</td>\n",
       "      <td>NaN</td>\n",
       "      <td>3.5</td>\n",
       "      <td>NaN</td>\n",
       "      <td>...</td>\n",
       "      <td>NaN</td>\n",
       "      <td>4.0</td>\n",
       "      <td>3.5</td>\n",
       "      <td>3.0</td>\n",
       "      <td>NaN</td>\n",
       "      <td>NaN</td>\n",
       "      <td>2.0</td>\n",
       "      <td>1.5</td>\n",
       "      <td>NaN</td>\n",
       "      <td>NaN</td>\n",
       "    </tr>\n",
       "  </tbody>\n",
       "</table>\n",
       "<p>610 rows × 9719 columns</p>\n",
       "</div>"
      ],
      "text/plain": [
       "title   '71 (2014)  'Hellboy': The Seeds of Creation (2004)  \\\n",
       "userId                                                        \n",
       "1              NaN                                      NaN   \n",
       "2              NaN                                      NaN   \n",
       "3              NaN                                      NaN   \n",
       "4              NaN                                      NaN   \n",
       "5              NaN                                      NaN   \n",
       "...            ...                                      ...   \n",
       "606            NaN                                      NaN   \n",
       "607            NaN                                      NaN   \n",
       "608            NaN                                      NaN   \n",
       "609            NaN                                      NaN   \n",
       "610            4.0                                      NaN   \n",
       "\n",
       "title   'Round Midnight (1986)  'Salem's Lot (2004)  \\\n",
       "userId                                                \n",
       "1                          NaN                  NaN   \n",
       "2                          NaN                  NaN   \n",
       "3                          NaN                  NaN   \n",
       "4                          NaN                  NaN   \n",
       "5                          NaN                  NaN   \n",
       "...                        ...                  ...   \n",
       "606                        NaN                  NaN   \n",
       "607                        NaN                  NaN   \n",
       "608                        NaN                  NaN   \n",
       "609                        NaN                  NaN   \n",
       "610                        NaN                  NaN   \n",
       "\n",
       "title   'Til There Was You (1997)  'Tis the Season for Love (2015)  \\\n",
       "userId                                                               \n",
       "1                             NaN                              NaN   \n",
       "2                             NaN                              NaN   \n",
       "3                             NaN                              NaN   \n",
       "4                             NaN                              NaN   \n",
       "5                             NaN                              NaN   \n",
       "...                           ...                              ...   \n",
       "606                           NaN                              NaN   \n",
       "607                           NaN                              NaN   \n",
       "608                           NaN                              NaN   \n",
       "609                           NaN                              NaN   \n",
       "610                           NaN                              NaN   \n",
       "\n",
       "title   'burbs, The (1989)  'night Mother (1986)  (500) Days of Summer (2009)  \\\n",
       "userId                                                                          \n",
       "1                      NaN                   NaN                          NaN   \n",
       "2                      NaN                   NaN                          NaN   \n",
       "3                      NaN                   NaN                          NaN   \n",
       "4                      NaN                   NaN                          NaN   \n",
       "5                      NaN                   NaN                          NaN   \n",
       "...                    ...                   ...                          ...   \n",
       "606                    NaN                   NaN                          NaN   \n",
       "607                    NaN                   NaN                          NaN   \n",
       "608                    NaN                   NaN                          NaN   \n",
       "609                    NaN                   NaN                          NaN   \n",
       "610                    NaN                   NaN                          3.5   \n",
       "\n",
       "title   *batteries not included (1987)  ...  Zulu (2013)  [REC] (2007)  \\\n",
       "userId                                  ...                              \n",
       "1                                  NaN  ...          NaN           NaN   \n",
       "2                                  NaN  ...          NaN           NaN   \n",
       "3                                  NaN  ...          NaN           NaN   \n",
       "4                                  NaN  ...          NaN           NaN   \n",
       "5                                  NaN  ...          NaN           NaN   \n",
       "...                                ...  ...          ...           ...   \n",
       "606                                NaN  ...          NaN           NaN   \n",
       "607                                NaN  ...          NaN           NaN   \n",
       "608                                NaN  ...          NaN           NaN   \n",
       "609                                NaN  ...          NaN           NaN   \n",
       "610                                NaN  ...          NaN           4.0   \n",
       "\n",
       "title   [REC]² (2009)  [REC]³ 3 Génesis (2012)  \\\n",
       "userId                                           \n",
       "1                 NaN                      NaN   \n",
       "2                 NaN                      NaN   \n",
       "3                 NaN                      NaN   \n",
       "4                 NaN                      NaN   \n",
       "5                 NaN                      NaN   \n",
       "...               ...                      ...   \n",
       "606               NaN                      NaN   \n",
       "607               NaN                      NaN   \n",
       "608               NaN                      NaN   \n",
       "609               NaN                      NaN   \n",
       "610               3.5                      3.0   \n",
       "\n",
       "title   anohana: The Flower We Saw That Day - The Movie (2013)  \\\n",
       "userId                                                           \n",
       "1                                                     NaN        \n",
       "2                                                     NaN        \n",
       "3                                                     NaN        \n",
       "4                                                     NaN        \n",
       "5                                                     NaN        \n",
       "...                                                   ...        \n",
       "606                                                   NaN        \n",
       "607                                                   NaN        \n",
       "608                                                   NaN        \n",
       "609                                                   NaN        \n",
       "610                                                   NaN        \n",
       "\n",
       "title   eXistenZ (1999)  xXx (2002)  xXx: State of the Union (2005)  \\\n",
       "userId                                                                \n",
       "1                   NaN         NaN                             NaN   \n",
       "2                   NaN         NaN                             NaN   \n",
       "3                   NaN         NaN                             NaN   \n",
       "4                   NaN         NaN                             NaN   \n",
       "5                   NaN         NaN                             NaN   \n",
       "...                 ...         ...                             ...   \n",
       "606                 NaN         NaN                             NaN   \n",
       "607                 NaN         NaN                             NaN   \n",
       "608                 4.5         3.5                             NaN   \n",
       "609                 NaN         NaN                             NaN   \n",
       "610                 NaN         2.0                             1.5   \n",
       "\n",
       "title   ¡Three Amigos! (1986)  À nous la liberté (Freedom for Us) (1931)  \n",
       "userId                                                                    \n",
       "1                         4.0                                        NaN  \n",
       "2                         NaN                                        NaN  \n",
       "3                         NaN                                        NaN  \n",
       "4                         NaN                                        NaN  \n",
       "5                         NaN                                        NaN  \n",
       "...                       ...                                        ...  \n",
       "606                       NaN                                        NaN  \n",
       "607                       NaN                                        NaN  \n",
       "608                       NaN                                        NaN  \n",
       "609                       NaN                                        NaN  \n",
       "610                       NaN                                        NaN  \n",
       "\n",
       "[610 rows x 9719 columns]"
      ]
     },
     "execution_count": 18,
     "metadata": {},
     "output_type": "execute_result"
    }
   ],
   "source": [
    "# Creating a pivot table with 'user_Id' as index and 'titles' as columns\n",
    "# Each row contains a unique user and movies the user rated\n",
    "\n",
    "matrix = df.pivot_table(values='rating', index='userId',columns='title')\n",
    "matrix"
   ]
  },
  {
   "cell_type": "markdown",
   "id": "adjusted-henry",
   "metadata": {
    "id": "o3M641LKmckt",
    "papermill": {
     "duration": 0.044618,
     "end_time": "2021-06-07T12:36:56.814892",
     "exception": false,
     "start_time": "2021-06-07T12:36:56.770274",
     "status": "completed"
    },
    "tags": []
   },
   "source": [
    "<h3> Suggesting for a Single Movie </h3>"
   ]
  },
  {
   "cell_type": "code",
   "execution_count": 19,
   "id": "municipal-opening",
   "metadata": {
    "execution": {
     "iopub.execute_input": "2021-06-07T12:36:56.913228Z",
     "iopub.status.busy": "2021-06-07T12:36:56.912543Z",
     "iopub.status.idle": "2021-06-07T12:36:56.916476Z",
     "shell.execute_reply": "2021-06-07T12:36:56.915845Z",
     "shell.execute_reply.started": "2021-06-07T12:34:03.216424Z"
    },
    "id": "tK2LmyZkl_9s",
    "outputId": "3e42c1f2-739b-46fb-b6e8-d8ff264ee192",
    "papermill": {
     "duration": 0.056738,
     "end_time": "2021-06-07T12:36:56.916615",
     "exception": false,
     "start_time": "2021-06-07T12:36:56.859877",
     "status": "completed"
    },
    "tags": []
   },
   "outputs": [
    {
     "data": {
      "text/plain": [
       "userId\n",
       "1      NaN\n",
       "2      3.0\n",
       "3      NaN\n",
       "4      NaN\n",
       "5      3.0\n",
       "      ... \n",
       "606    3.5\n",
       "607    5.0\n",
       "608    4.5\n",
       "609    4.0\n",
       "610    3.0\n",
       "Name: Shawshank Redemption, The (1994), Length: 610, dtype: float64"
      ]
     },
     "execution_count": 19,
     "metadata": {},
     "output_type": "execute_result"
    }
   ],
   "source": [
    "# Taking 'Shawshank Redemption, The (1994)' as an example\n",
    "# Extracting ratings of the movie by all users\n",
    "\n",
    "shawshank_ratings = matrix['Shawshank Redemption, The (1994)']\n",
    "shawshank_ratings"
   ]
  },
  {
   "cell_type": "code",
   "execution_count": 20,
   "id": "listed-suggestion",
   "metadata": {
    "execution": {
     "iopub.execute_input": "2021-06-07T12:36:57.014090Z",
     "iopub.status.busy": "2021-06-07T12:36:57.013403Z",
     "iopub.status.idle": "2021-06-07T12:36:59.480807Z",
     "shell.execute_reply": "2021-06-07T12:36:59.481386Z",
     "shell.execute_reply.started": "2021-06-07T12:34:03.227211Z"
    },
    "id": "LI9i6TPJma5c",
    "outputId": "7839313c-3942-4ece-8de6-e6fd75a74613",
    "papermill": {
     "duration": 2.518694,
     "end_time": "2021-06-07T12:36:59.481570",
     "exception": false,
     "start_time": "2021-06-07T12:36:56.962876",
     "status": "completed"
    },
    "tags": []
   },
   "outputs": [
    {
     "name": "stderr",
     "output_type": "stream",
     "text": [
      "/opt/conda/lib/python3.7/site-packages/numpy/lib/function_base.py:2551: RuntimeWarning: Degrees of freedom <= 0 for slice\n",
      "  c = cov(x, y, rowvar)\n",
      "/opt/conda/lib/python3.7/site-packages/numpy/lib/function_base.py:2480: RuntimeWarning: divide by zero encountered in true_divide\n",
      "  c *= np.true_divide(1, fact)\n"
     ]
    },
    {
     "name": "stdout",
     "output_type": "stream",
     "text": [
      "title\n",
      "Principal, The (1987)                                 1.0\n",
      "Chi-Raq (2015)                                        1.0\n",
      "Rififi (Du rififi chez les hommes) (1955)             1.0\n",
      "Robot & Frank (2012)                                  1.0\n",
      "Rock Star (2001)                                      1.0\n",
      "                                                     ... \n",
      "Police Story 2 (Ging chaat goo si juk jaap) (1988)   -1.0\n",
      "Police Story (Ging chaat goo si) (1985)              -1.0\n",
      "School Daze (1988)                                   -1.0\n",
      "Dead or Alive: Hanzaisha (1999)                      -1.0\n",
      "Respiro (2002)                                       -1.0\n",
      "Length: 4785, dtype: float64\n"
     ]
    }
   ],
   "source": [
    "# Using correlation between selected movie and all movies based on user ratings; \n",
    "# Getting similar movies with selected movie\n",
    "\n",
    "shawshank_alike = matrix.corrwith(shawshank_ratings)\n",
    "print(shawshank_alike.dropna().sort_values(ascending=False))"
   ]
  },
  {
   "cell_type": "code",
   "execution_count": 21,
   "id": "specialized-fiction",
   "metadata": {
    "execution": {
     "iopub.execute_input": "2021-06-07T12:36:59.589297Z",
     "iopub.status.busy": "2021-06-07T12:36:59.588592Z",
     "iopub.status.idle": "2021-06-07T12:36:59.606736Z",
     "shell.execute_reply": "2021-06-07T12:36:59.607261Z",
     "shell.execute_reply.started": "2021-06-07T12:34:05.443433Z"
    },
    "id": "zuaOo3XwoD4P",
    "outputId": "c4de695d-42a7-4b6e-e80c-a39f0e70cf81",
    "papermill": {
     "duration": 0.075836,
     "end_time": "2021-06-07T12:36:59.607433",
     "exception": false,
     "start_time": "2021-06-07T12:36:59.531597",
     "status": "completed"
    },
    "tags": []
   },
   "outputs": [
    {
     "data": {
      "text/html": [
       "<div>\n",
       "<style scoped>\n",
       "    .dataframe tbody tr th:only-of-type {\n",
       "        vertical-align: middle;\n",
       "    }\n",
       "\n",
       "    .dataframe tbody tr th {\n",
       "        vertical-align: top;\n",
       "    }\n",
       "\n",
       "    .dataframe thead th {\n",
       "        text-align: right;\n",
       "    }\n",
       "</style>\n",
       "<table border=\"1\" class=\"dataframe\">\n",
       "  <thead>\n",
       "    <tr style=\"text-align: right;\">\n",
       "      <th></th>\n",
       "      <th>corr</th>\n",
       "      <th>no_of_ratings</th>\n",
       "    </tr>\n",
       "    <tr>\n",
       "      <th>title</th>\n",
       "      <th></th>\n",
       "      <th></th>\n",
       "    </tr>\n",
       "  </thead>\n",
       "  <tbody>\n",
       "    <tr>\n",
       "      <th>'burbs, The (1989)</th>\n",
       "      <td>0.419543</td>\n",
       "      <td>17</td>\n",
       "    </tr>\n",
       "    <tr>\n",
       "      <th>(500) Days of Summer (2009)</th>\n",
       "      <td>0.249580</td>\n",
       "      <td>42</td>\n",
       "    </tr>\n",
       "    <tr>\n",
       "      <th>*batteries not included (1987)</th>\n",
       "      <td>0.404520</td>\n",
       "      <td>7</td>\n",
       "    </tr>\n",
       "    <tr>\n",
       "      <th>...And Justice for All (1979)</th>\n",
       "      <td>-1.000000</td>\n",
       "      <td>3</td>\n",
       "    </tr>\n",
       "    <tr>\n",
       "      <th>10 Cloverfield Lane (2016)</th>\n",
       "      <td>0.145671</td>\n",
       "      <td>14</td>\n",
       "    </tr>\n",
       "    <tr>\n",
       "      <th>...</th>\n",
       "      <td>...</td>\n",
       "      <td>...</td>\n",
       "    </tr>\n",
       "    <tr>\n",
       "      <th>[REC]² (2009)</th>\n",
       "      <td>0.944911</td>\n",
       "      <td>3</td>\n",
       "    </tr>\n",
       "    <tr>\n",
       "      <th>eXistenZ (1999)</th>\n",
       "      <td>0.047590</td>\n",
       "      <td>22</td>\n",
       "    </tr>\n",
       "    <tr>\n",
       "      <th>xXx (2002)</th>\n",
       "      <td>0.301531</td>\n",
       "      <td>24</td>\n",
       "    </tr>\n",
       "    <tr>\n",
       "      <th>xXx: State of the Union (2005)</th>\n",
       "      <td>0.975900</td>\n",
       "      <td>5</td>\n",
       "    </tr>\n",
       "    <tr>\n",
       "      <th>¡Three Amigos! (1986)</th>\n",
       "      <td>0.048287</td>\n",
       "      <td>26</td>\n",
       "    </tr>\n",
       "  </tbody>\n",
       "</table>\n",
       "<p>4785 rows × 2 columns</p>\n",
       "</div>"
      ],
      "text/plain": [
       "                                    corr  no_of_ratings\n",
       "title                                                  \n",
       "'burbs, The (1989)              0.419543             17\n",
       "(500) Days of Summer (2009)     0.249580             42\n",
       "*batteries not included (1987)  0.404520              7\n",
       "...And Justice for All (1979)  -1.000000              3\n",
       "10 Cloverfield Lane (2016)      0.145671             14\n",
       "...                                  ...            ...\n",
       "[REC]² (2009)                   0.944911              3\n",
       "eXistenZ (1999)                 0.047590             22\n",
       "xXx (2002)                      0.301531             24\n",
       "xXx: State of the Union (2005)  0.975900              5\n",
       "¡Three Amigos! (1986)           0.048287             26\n",
       "\n",
       "[4785 rows x 2 columns]"
      ]
     },
     "execution_count": 21,
     "metadata": {},
     "output_type": "execute_result"
    }
   ],
   "source": [
    "# Many of the movies have less number of ratings,\n",
    "# Excluding suggestions with a threshold number of ratings.\n",
    "\n",
    "# Creating DF for above cell and adding no. of ratings column\n",
    "shawshank_corr = pd.DataFrame(shawshank_alike,columns=['corr']).dropna()\n",
    "shawshank_corr = shawshank_corr.join(df_rate['no_of_ratings'])\n",
    "shawshank_corr"
   ]
  },
  {
   "cell_type": "code",
   "execution_count": 22,
   "id": "eastern-aging",
   "metadata": {
    "execution": {
     "iopub.execute_input": "2021-06-07T12:36:59.710468Z",
     "iopub.status.busy": "2021-06-07T12:36:59.709613Z",
     "iopub.status.idle": "2021-06-07T12:36:59.713149Z",
     "shell.execute_reply": "2021-06-07T12:36:59.713845Z",
     "shell.execute_reply.started": "2021-06-07T12:34:05.465544Z"
    },
    "id": "Yfap6e7IpgIg",
    "outputId": "e55e8eb5-da28-40a7-d6dc-5f66f383a612",
    "papermill": {
     "duration": 0.060048,
     "end_time": "2021-06-07T12:36:59.714086",
     "exception": false,
     "start_time": "2021-06-07T12:36:59.654038",
     "status": "completed"
    },
    "tags": []
   },
   "outputs": [
    {
     "name": "stdout",
     "output_type": "stream",
     "text": [
      "                                                        corr  no_of_ratings\n",
      "title                                                                      \n",
      "Four Weddings and a Funeral (1994)                  0.446212            103\n",
      "Schindler's List (1993)                             0.402202            220\n",
      "Usual Suspects, The (1995)                          0.394294            204\n",
      "Ocean's Eleven (2001)                               0.391546            119\n",
      "Green Mile, The (1999)                              0.382818            111\n",
      "Inception (2010)                                    0.377839            143\n",
      "Catch Me If You Can (2002)                          0.356612            115\n",
      "One Flew Over the Cuckoo's Nest (1975)              0.354215            133\n",
      "Godfather: Part II, The (1974)                      0.349872            129\n",
      "Departed, The (2006)                                0.347259            107\n",
      "Firm, The (1993)                                    0.343882            101\n",
      "Fight Club (1999)                                   0.336705            218\n",
      "Amelie (Fabuleux destin d'Amélie Poulain, Le) (...  0.321612            120\n",
      "Die Hard (1988)                                     0.316680            145\n",
      "E.T. the Extra-Terrestrial (1982)                   0.315636            122\n",
      "Braveheart (1995)                                   0.313395            237\n",
      "Apocalypse Now (1979)                               0.303913            107\n",
      "Godfather, The (1972)                               0.300040            192\n",
      "Beautiful Mind, A (2001)                            0.299059            123\n",
      "Forrest Gump (1994)                                 0.297438            329\n",
      "Reservoir Dogs (1992)                               0.296496            131\n",
      "Truman Show, The (1998)                             0.292827            125\n",
      "Austin Powers: The Spy Who Shagged Me (1999)        0.289890            121\n",
      "Star Wars: Episode IV - A New Hope (1977)           0.288230            251\n",
      "Matrix, The (1999)                                  0.284825            278\n"
     ]
    }
   ],
   "source": [
    "# Threshold is set as 100 (tunable accordingly)\n",
    "# So similar movies should have atleast 100 no. of ratings\n",
    "# Excluding first row as the movie Shawshank Redemption is perfectly correlated with itself.\n",
    "\n",
    "print(shawshank_corr[shawshank_corr['no_of_ratings']>100].sort_values(by='corr',ascending=False)[1:].head(25))"
   ]
  },
  {
   "cell_type": "markdown",
   "id": "hearing-price",
   "metadata": {
    "id": "YpG3FE8Yn3JM",
    "papermill": {
     "duration": 0.0462,
     "end_time": "2021-06-07T12:36:59.807976",
     "exception": false,
     "start_time": "2021-06-07T12:36:59.761776",
     "status": "completed"
    },
    "tags": []
   },
   "source": [
    "# **Recommendation System**"
   ]
  },
  {
   "cell_type": "markdown",
   "id": "incorporate-fight",
   "metadata": {
    "id": "AkNvcLIYo-xJ",
    "papermill": {
     "duration": 0.046272,
     "end_time": "2021-06-07T12:36:59.900938",
     "exception": false,
     "start_time": "2021-06-07T12:36:59.854666",
     "status": "completed"
    },
    "tags": []
   },
   "source": [
    "## Function to Fetch Similar Movies"
   ]
  },
  {
   "cell_type": "markdown",
   "id": "quality-announcement",
   "metadata": {
    "id": "QSFCzPgZpXHh",
    "papermill": {
     "duration": 0.04637,
     "end_time": "2021-06-07T12:36:59.994691",
     "exception": false,
     "start_time": "2021-06-07T12:36:59.948321",
     "status": "completed"
    },
    "tags": []
   },
   "source": [
    "**Function Description**\n",
    "\n",
    "Line:\n",
    "1. Takes input as movie name.\n",
    "2. Stores correlation of selected movie and all movies in *p* \n",
    "3. Temporary DF is created with *p* and excluding null values\n",
    "4. Temporary DF has two columns *corr* and *no_of_ratings*\n",
    "5. Select a threshold for minimum no. of ratings(*Thresh_rat*) for a suggested movie [Higher for Famous movies]\n",
    "6. Select a threshold for % match(*Thresh_corr*)\n",
    "7. Selecting similar movies based on *Thresh_rat*\n",
    "8. Display all movies above *'Thresh_corr'* % Match; if suggestions are less than threshold level display five movies.\n",
    "9. Change the display format of *Corr* column\n",
    "10. Change the display format of *no_of_ratings* column\n",
    "11. Return Similar Movies"
   ]
  },
  {
   "cell_type": "code",
   "execution_count": 23,
   "id": "modern-unknown",
   "metadata": {
    "execution": {
     "iopub.execute_input": "2021-06-07T12:37:00.097808Z",
     "iopub.status.busy": "2021-06-07T12:37:00.096795Z",
     "iopub.status.idle": "2021-06-07T12:37:00.100079Z",
     "shell.execute_reply": "2021-06-07T12:37:00.099458Z",
     "shell.execute_reply.started": "2021-06-07T12:34:05.477614Z"
    },
    "id": "5UkGnySqRgao",
    "papermill": {
     "duration": 0.0589,
     "end_time": "2021-06-07T12:37:00.100230",
     "exception": false,
     "start_time": "2021-06-07T12:37:00.041330",
     "status": "completed"
    },
    "tags": []
   },
   "outputs": [],
   "source": [
    "def similar_to(movie_name):\n",
    "  p = matrix.corrwith(matrix[movie_name]) \n",
    "  temp_df = pd.DataFrame(p,columns=['corr']).dropna()\n",
    "  temp_df =temp_df.join(df_rate['no_of_ratings'])\n",
    "  Thresh_rat = 80 # Adjusting this may give different results\n",
    "  Thresh_corr = 0.50 # Percentage of match to show\n",
    "  q = temp_df[temp_df['no_of_ratings']>Thresh_rat].sort_values(by='corr',ascending=False)[1:]\n",
    "  q = q.head(5) if len(q[q['corr']>Thresh_corr])<5 else q[q['corr']>Thresh_corr]\n",
    "  q['corr'] = q['corr'].apply(lambda x: \"{}{}\".format(round(x*100,1), '% Match'))\n",
    "  q['no_of_ratings'] = q['no_of_ratings'].apply(lambda x: \"{}{}\".format(x, ' Ratings'))\n",
    "  print('Users who watched \"{}\" also watched these\\n'.format(movie_name))\n",
    "  return q\n",
    "\n",
    "# Exclude all Warnings\n",
    "import warnings\n",
    "warnings.filterwarnings(\"ignore\")"
   ]
  },
  {
   "cell_type": "markdown",
   "id": "opponent-vertical",
   "metadata": {
    "id": "wqla7m6qokZI",
    "papermill": {
     "duration": 0.046368,
     "end_time": "2021-06-07T12:37:00.193885",
     "exception": false,
     "start_time": "2021-06-07T12:37:00.147517",
     "status": "completed"
    },
    "tags": []
   },
   "source": [
    "## Selecting a Movie from Dataset"
   ]
  },
  {
   "cell_type": "markdown",
   "id": "liberal-madonna",
   "metadata": {
    "id": "5qYcM2Q1oAzn",
    "papermill": {
     "duration": 0.046378,
     "end_time": "2021-06-07T12:37:00.286993",
     "exception": false,
     "start_time": "2021-06-07T12:37:00.240615",
     "status": "completed"
    },
    "tags": []
   },
   "source": [
    "1. In *search* enter any key words/movie name as string and run the cell.\n",
    "2. From the list displayed select a movie .\n",
    "2. Copy a desired movie name"
   ]
  },
  {
   "cell_type": "code",
   "execution_count": 24,
   "id": "acquired-israeli",
   "metadata": {
    "execution": {
     "iopub.execute_input": "2021-06-07T12:37:00.393423Z",
     "iopub.status.busy": "2021-06-07T12:37:00.392485Z",
     "iopub.status.idle": "2021-06-07T12:37:00.404665Z",
     "shell.execute_reply": "2021-06-07T12:37:00.405193Z",
     "shell.execute_reply.started": "2021-06-07T12:34:05.492108Z"
    },
    "id": "RcMZhRmb6k_H",
    "outputId": "fc24d1ef-d588-4464-f958-826516b50dba",
    "papermill": {
     "duration": 0.070798,
     "end_time": "2021-06-07T12:37:00.405392",
     "exception": false,
     "start_time": "2021-06-07T12:37:00.334594",
     "status": "completed"
    },
    "tags": []
   },
   "outputs": [
    {
     "name": "stdout",
     "output_type": "stream",
     "text": [
      "Fight Club (1999)\n",
      "X-Files: Fight the Future, The (1998)\n",
      "Fighter, The (2010)\n",
      "Last Starfighter, The (1984)\n",
      "Fighting Seabees, The (1944)\n",
      "Fighting Temptations, The (2003)\n",
      "Fist Fight (2017)\n",
      "Craig Ferguson: Tickle Fight (2017)\n",
      "Street Fighter (1994)\n",
      "Girlfight (2000)\n",
      "While You Were Fighting: A Thor Mockumentary (2016)\n",
      "Why We Fight (2005)\n",
      "Dogfight (1991)\n",
      "Bring It On: Fight to the Finish (2009)\n",
      "Street Fighter II: The Animated Movie (Sutorîto Faitâ II gekijô-ban) (1994)\n",
      "Karate Bullfighter (1975)\n"
     ]
    }
   ],
   "source": [
    "def search(x):\n",
    "  print(\"\\n\".join(s for s in df['title'].unique() if x.lower() in s.lower()))\n",
    "  pass\n",
    "\n",
    "# Enter keyword here as search('__') and run the cell\n",
    "search('figh') "
   ]
  },
  {
   "cell_type": "markdown",
   "id": "disciplinary-intranet",
   "metadata": {
    "id": "ULSnk9ODs9-O",
    "papermill": {
     "duration": 0.046706,
     "end_time": "2021-06-07T12:37:00.502946",
     "exception": false,
     "start_time": "2021-06-07T12:37:00.456240",
     "status": "completed"
    },
    "tags": []
   },
   "source": [
    "## Suggested Movies\n"
   ]
  },
  {
   "cell_type": "markdown",
   "id": "lesser-cardiff",
   "metadata": {
    "id": "lVTta11AtwvY",
    "papermill": {
     "duration": 0.046654,
     "end_time": "2021-06-07T12:37:00.598985",
     "exception": false,
     "start_time": "2021-06-07T12:37:00.552331",
     "status": "completed"
    },
    "tags": []
   },
   "source": [
    "Paste the selected/copied movie from above in \n",
    "`similar_to('____')` and run.\n"
   ]
  },
  {
   "cell_type": "code",
   "execution_count": 25,
   "id": "through-anderson",
   "metadata": {
    "execution": {
     "iopub.execute_input": "2021-06-07T12:37:00.698470Z",
     "iopub.status.busy": "2021-06-07T12:37:00.697592Z",
     "iopub.status.idle": "2021-06-07T12:37:03.141743Z",
     "shell.execute_reply": "2021-06-07T12:37:03.140991Z",
     "shell.execute_reply.started": "2021-06-07T12:34:05.519797Z"
    },
    "id": "SgoSs10E3GXA",
    "outputId": "94fd82f6-934c-4a6a-f5e5-24578e77491f",
    "papermill": {
     "duration": 2.495791,
     "end_time": "2021-06-07T12:37:03.141957",
     "exception": false,
     "start_time": "2021-06-07T12:37:00.646166",
     "status": "completed"
    },
    "tags": []
   },
   "outputs": [
    {
     "name": "stdout",
     "output_type": "stream",
     "text": [
      "Users who watched \"X-Men (2000)\" also watched these\n",
      "\n"
     ]
    },
    {
     "data": {
      "text/html": [
       "<div>\n",
       "<style scoped>\n",
       "    .dataframe tbody tr th:only-of-type {\n",
       "        vertical-align: middle;\n",
       "    }\n",
       "\n",
       "    .dataframe tbody tr th {\n",
       "        vertical-align: top;\n",
       "    }\n",
       "\n",
       "    .dataframe thead th {\n",
       "        text-align: right;\n",
       "    }\n",
       "</style>\n",
       "<table border=\"1\" class=\"dataframe\">\n",
       "  <thead>\n",
       "    <tr style=\"text-align: right;\">\n",
       "      <th></th>\n",
       "      <th>corr</th>\n",
       "      <th>no_of_ratings</th>\n",
       "    </tr>\n",
       "    <tr>\n",
       "      <th>title</th>\n",
       "      <th></th>\n",
       "      <th></th>\n",
       "    </tr>\n",
       "  </thead>\n",
       "  <tbody>\n",
       "    <tr>\n",
       "      <th>Iron Man (2008)</th>\n",
       "      <td>58.4% Match</td>\n",
       "      <td>94 Ratings</td>\n",
       "    </tr>\n",
       "    <tr>\n",
       "      <th>While You Were Sleeping (1995)</th>\n",
       "      <td>57.5% Match</td>\n",
       "      <td>98 Ratings</td>\n",
       "    </tr>\n",
       "    <tr>\n",
       "      <th>Star Trek: Generations (1994)</th>\n",
       "      <td>57.2% Match</td>\n",
       "      <td>108 Ratings</td>\n",
       "    </tr>\n",
       "    <tr>\n",
       "      <th>Batman Begins (2005)</th>\n",
       "      <td>47.6% Match</td>\n",
       "      <td>116 Ratings</td>\n",
       "    </tr>\n",
       "    <tr>\n",
       "      <th>Star Trek: First Contact (1996)</th>\n",
       "      <td>47.5% Match</td>\n",
       "      <td>91 Ratings</td>\n",
       "    </tr>\n",
       "  </tbody>\n",
       "</table>\n",
       "</div>"
      ],
      "text/plain": [
       "                                        corr no_of_ratings\n",
       "title                                                     \n",
       "Iron Man (2008)                  58.4% Match    94 Ratings\n",
       "While You Were Sleeping (1995)   57.5% Match    98 Ratings\n",
       "Star Trek: Generations (1994)    57.2% Match   108 Ratings\n",
       "Batman Begins (2005)             47.6% Match   116 Ratings\n",
       "Star Trek: First Contact (1996)  47.5% Match    91 Ratings"
      ]
     },
     "execution_count": 25,
     "metadata": {},
     "output_type": "execute_result"
    }
   ],
   "source": [
    "similar_to ('X-Men (2000)')"
   ]
  },
  {
   "cell_type": "code",
   "execution_count": 26,
   "id": "supposed-airfare",
   "metadata": {
    "execution": {
     "iopub.execute_input": "2021-06-07T12:37:03.243759Z",
     "iopub.status.busy": "2021-06-07T12:37:03.242990Z",
     "iopub.status.idle": "2021-06-07T12:37:04.638804Z",
     "shell.execute_reply": "2021-06-07T12:37:04.639320Z",
     "shell.execute_reply.started": "2021-06-07T12:34:07.669224Z"
    },
    "id": "XB11JqYbzWQc",
    "outputId": "01cdabb7-70d0-4ca9-fe1d-09a5ed45d8f6",
    "papermill": {
     "duration": 1.448755,
     "end_time": "2021-06-07T12:37:04.639500",
     "exception": false,
     "start_time": "2021-06-07T12:37:03.190745",
     "status": "completed"
    },
    "tags": []
   },
   "outputs": [
    {
     "name": "stdout",
     "output_type": "stream",
     "text": [
      "Users who watched \"Jumanji: Welcome to the Jungle (2017)\" also watched these\n",
      "\n"
     ]
    },
    {
     "data": {
      "text/html": [
       "<div>\n",
       "<style scoped>\n",
       "    .dataframe tbody tr th:only-of-type {\n",
       "        vertical-align: middle;\n",
       "    }\n",
       "\n",
       "    .dataframe tbody tr th {\n",
       "        vertical-align: top;\n",
       "    }\n",
       "\n",
       "    .dataframe thead th {\n",
       "        text-align: right;\n",
       "    }\n",
       "</style>\n",
       "<table border=\"1\" class=\"dataframe\">\n",
       "  <thead>\n",
       "    <tr style=\"text-align: right;\">\n",
       "      <th></th>\n",
       "      <th>corr</th>\n",
       "      <th>no_of_ratings</th>\n",
       "    </tr>\n",
       "    <tr>\n",
       "      <th>title</th>\n",
       "      <th></th>\n",
       "      <th></th>\n",
       "    </tr>\n",
       "  </thead>\n",
       "  <tbody>\n",
       "    <tr>\n",
       "      <th>Ace Ventura: Pet Detective (1994)</th>\n",
       "      <td>100.0% Match</td>\n",
       "      <td>161 Ratings</td>\n",
       "    </tr>\n",
       "    <tr>\n",
       "      <th>Heat (1995)</th>\n",
       "      <td>100.0% Match</td>\n",
       "      <td>102 Ratings</td>\n",
       "    </tr>\n",
       "    <tr>\n",
       "      <th>Mummy, The (1999)</th>\n",
       "      <td>100.0% Match</td>\n",
       "      <td>87 Ratings</td>\n",
       "    </tr>\n",
       "    <tr>\n",
       "      <th>Men in Black (a.k.a. MIB) (1997)</th>\n",
       "      <td>100.0% Match</td>\n",
       "      <td>165 Ratings</td>\n",
       "    </tr>\n",
       "    <tr>\n",
       "      <th>Jumanji (1995)</th>\n",
       "      <td>100.0% Match</td>\n",
       "      <td>110 Ratings</td>\n",
       "    </tr>\n",
       "    <tr>\n",
       "      <th>Shrek (2001)</th>\n",
       "      <td>95.8% Match</td>\n",
       "      <td>170 Ratings</td>\n",
       "    </tr>\n",
       "    <tr>\n",
       "      <th>Toy Story 2 (1999)</th>\n",
       "      <td>69.3% Match</td>\n",
       "      <td>97 Ratings</td>\n",
       "    </tr>\n",
       "    <tr>\n",
       "      <th>X-Men (2000)</th>\n",
       "      <td>55.2% Match</td>\n",
       "      <td>133 Ratings</td>\n",
       "    </tr>\n",
       "  </tbody>\n",
       "</table>\n",
       "</div>"
      ],
      "text/plain": [
       "                                           corr no_of_ratings\n",
       "title                                                        \n",
       "Ace Ventura: Pet Detective (1994)  100.0% Match   161 Ratings\n",
       "Heat (1995)                        100.0% Match   102 Ratings\n",
       "Mummy, The (1999)                  100.0% Match    87 Ratings\n",
       "Men in Black (a.k.a. MIB) (1997)   100.0% Match   165 Ratings\n",
       "Jumanji (1995)                     100.0% Match   110 Ratings\n",
       "Shrek (2001)                        95.8% Match   170 Ratings\n",
       "Toy Story 2 (1999)                  69.3% Match    97 Ratings\n",
       "X-Men (2000)                        55.2% Match   133 Ratings"
      ]
     },
     "execution_count": 26,
     "metadata": {},
     "output_type": "execute_result"
    }
   ],
   "source": [
    "similar_to('Jumanji: Welcome to the Jungle (2017)')"
   ]
  },
  {
   "cell_type": "code",
   "execution_count": 27,
   "id": "confidential-hammer",
   "metadata": {
    "execution": {
     "iopub.execute_input": "2021-06-07T12:37:04.743337Z",
     "iopub.status.busy": "2021-06-07T12:37:04.742376Z",
     "iopub.status.idle": "2021-06-07T12:37:07.279158Z",
     "shell.execute_reply": "2021-06-07T12:37:07.279647Z",
     "shell.execute_reply.started": "2021-06-07T12:34:08.854500Z"
    },
    "id": "2iz66-XcwrlW",
    "outputId": "b9827ee0-290b-4e89-d4e3-63e046ca5ae3",
    "papermill": {
     "duration": 2.591548,
     "end_time": "2021-06-07T12:37:07.279848",
     "exception": false,
     "start_time": "2021-06-07T12:37:04.688300",
     "status": "completed"
    },
    "tags": []
   },
   "outputs": [
    {
     "name": "stdout",
     "output_type": "stream",
     "text": [
      "Users who watched \"Fight Club (1999)\" also watched these\n",
      "\n"
     ]
    },
    {
     "data": {
      "text/html": [
       "<div>\n",
       "<style scoped>\n",
       "    .dataframe tbody tr th:only-of-type {\n",
       "        vertical-align: middle;\n",
       "    }\n",
       "\n",
       "    .dataframe tbody tr th {\n",
       "        vertical-align: top;\n",
       "    }\n",
       "\n",
       "    .dataframe thead th {\n",
       "        text-align: right;\n",
       "    }\n",
       "</style>\n",
       "<table border=\"1\" class=\"dataframe\">\n",
       "  <thead>\n",
       "    <tr style=\"text-align: right;\">\n",
       "      <th></th>\n",
       "      <th>corr</th>\n",
       "      <th>no_of_ratings</th>\n",
       "    </tr>\n",
       "    <tr>\n",
       "      <th>title</th>\n",
       "      <th></th>\n",
       "      <th></th>\n",
       "    </tr>\n",
       "  </thead>\n",
       "  <tbody>\n",
       "    <tr>\n",
       "      <th>Life Is Beautiful (La Vita è bella) (1997)</th>\n",
       "      <td>63.0% Match</td>\n",
       "      <td>88 Ratings</td>\n",
       "    </tr>\n",
       "    <tr>\n",
       "      <th>Outbreak (1995)</th>\n",
       "      <td>62.8% Match</td>\n",
       "      <td>101 Ratings</td>\n",
       "    </tr>\n",
       "    <tr>\n",
       "      <th>Pulp Fiction (1994)</th>\n",
       "      <td>54.3% Match</td>\n",
       "      <td>307 Ratings</td>\n",
       "    </tr>\n",
       "    <tr>\n",
       "      <th>Heat (1995)</th>\n",
       "      <td>52.4% Match</td>\n",
       "      <td>102 Ratings</td>\n",
       "    </tr>\n",
       "    <tr>\n",
       "      <th>Four Weddings and a Funeral (1994)</th>\n",
       "      <td>52.4% Match</td>\n",
       "      <td>103 Ratings</td>\n",
       "    </tr>\n",
       "    <tr>\n",
       "      <th>Firm, The (1993)</th>\n",
       "      <td>51.6% Match</td>\n",
       "      <td>101 Ratings</td>\n",
       "    </tr>\n",
       "    <tr>\n",
       "      <th>Seven (a.k.a. Se7en) (1995)</th>\n",
       "      <td>51.1% Match</td>\n",
       "      <td>203 Ratings</td>\n",
       "    </tr>\n",
       "  </tbody>\n",
       "</table>\n",
       "</div>"
      ],
      "text/plain": [
       "                                                   corr no_of_ratings\n",
       "title                                                                \n",
       "Life Is Beautiful (La Vita è bella) (1997)  63.0% Match    88 Ratings\n",
       "Outbreak (1995)                             62.8% Match   101 Ratings\n",
       "Pulp Fiction (1994)                         54.3% Match   307 Ratings\n",
       "Heat (1995)                                 52.4% Match   102 Ratings\n",
       "Four Weddings and a Funeral (1994)          52.4% Match   103 Ratings\n",
       "Firm, The (1993)                            51.6% Match   101 Ratings\n",
       "Seven (a.k.a. Se7en) (1995)                 51.1% Match   203 Ratings"
      ]
     },
     "execution_count": 27,
     "metadata": {},
     "output_type": "execute_result"
    }
   ],
   "source": [
    "similar_to ('Fight Club (1999)')"
   ]
  }
 ],
 "metadata": {
  "kernelspec": {
   "display_name": "Python 3",
   "language": "python",
   "name": "python3"
  },
  "language_info": {
   "codemirror_mode": {
    "name": "ipython",
    "version": 3
   },
   "file_extension": ".py",
   "mimetype": "text/x-python",
   "name": "python",
   "nbconvert_exporter": "python",
   "pygments_lexer": "ipython3",
   "version": "3.7.9"
  },
  "papermill": {
   "default_parameters": {},
   "duration": 24.369957,
   "end_time": "2021-06-07T12:37:08.039501",
   "environment_variables": {},
   "exception": null,
   "input_path": "__notebook__.ipynb",
   "output_path": "__notebook__.ipynb",
   "parameters": {},
   "start_time": "2021-06-07T12:36:43.669544",
   "version": "2.3.2"
  }
 },
 "nbformat": 4,
 "nbformat_minor": 5
}
